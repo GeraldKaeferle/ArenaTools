{
  "nbformat": 4,
  "nbformat_minor": 0,
  "metadata": {
    "colab": {
      "name": "Text Summary.ipynb",
      "provenance": [],
      "collapsed_sections": [],
      "authorship_tag": "ABX9TyPtBlVQAlaTDq5GUgwX/WX0",
      "include_colab_link": true
    },
    "kernelspec": {
      "name": "python3",
      "display_name": "Python 3"
    }
  },
  "cells": [
    {
      "cell_type": "markdown",
      "metadata": {
        "id": "view-in-github",
        "colab_type": "text"
      },
      "source": [
        "<a href=\"https://colab.research.google.com/gist/GeraldKaeferle/cca57d4db4fa34993c0e0771f62810d8/text-summary.ipynb\" target=\"_parent\"><img src=\"https://colab.research.google.com/assets/colab-badge.svg\" alt=\"Open In Colab\"/></a>"
      ]
    },
    {
      "cell_type": "code",
      "metadata": {
        "id": "BvmkDvS4ni7Y",
        "colab_type": "code",
        "colab": {}
      },
      "source": [
        "from nltk import download\n",
        "from nltk.corpus import stopwords\n",
        "from nltk.cluster.util import cosine_distance\n",
        "from nltk.tokenize import sent_tokenize\n",
        "from nltk.tokenize import word_tokenize\n",
        "from nltk.probability import FreqDist\n",
        "from nltk.tag import pos_tag\n",
        "from nltk.stem.snowball import SnowballStemmer\n",
        "import datetime\n",
        "from dateutil.parser import parse\n",
        "import numpy as np\n",
        "from numpy import dot\n",
        "from numpy.linalg import norm\n",
        "import networkx as nx\n",
        "import requests\n",
        "from urllib.parse import urlparse\n",
        "import unicodedata\n",
        "from bs4 import BeautifulSoup\n",
        "from scipy import stats\n",
        "from matplotlib import pyplot\n",
        "import timeit\n"
      ],
      "execution_count": 0,
      "outputs": []
    },
    {
      "cell_type": "code",
      "metadata": {
        "id": "3tPnfs_Plh58",
        "colab_type": "code",
        "colab": {
          "base_uri": "https://localhost:8080/",
          "height": 33
        },
        "outputId": "0df951e7-a0e7-4dd9-8025-b80af10c31ff"
      },
      "source": [
        "def cos_sim(a,b):\n",
        "  return (a @ b.T) / (norm(a)*norm(b))\n",
        "\n",
        "a = np.array([3, 45, 7, 2])\n",
        "b = np.array([2, 54, 13, 15])\n",
        "\n",
        "cos_sim(a,b)"
      ],
      "execution_count": 124,
      "outputs": [
        {
          "output_type": "execute_result",
          "data": {
            "text/plain": [
              "0.9722842517123499"
            ]
          },
          "metadata": {
            "tags": []
          },
          "execution_count": 124
        }
      ]
    },
    {
      "cell_type": "code",
      "metadata": {
        "id": "QqmPYh_d7hIk",
        "colab_type": "code",
        "outputId": "3720088c-4c58-44f0-f27f-905279de8021",
        "colab": {
          "base_uri": "https://localhost:8080/",
          "height": 141
        }
      },
      "source": [
        "!pip install wikipedia\n",
        "import wikipedia"
      ],
      "execution_count": 0,
      "outputs": [
        {
          "output_type": "stream",
          "text": [
            "Requirement already satisfied: wikipedia in /usr/local/lib/python3.6/dist-packages (1.4.0)\n",
            "Requirement already satisfied: requests<3.0.0,>=2.0.0 in /usr/local/lib/python3.6/dist-packages (from wikipedia) (2.21.0)\n",
            "Requirement already satisfied: beautifulsoup4 in /usr/local/lib/python3.6/dist-packages (from wikipedia) (4.6.3)\n",
            "Requirement already satisfied: chardet<3.1.0,>=3.0.2 in /usr/local/lib/python3.6/dist-packages (from requests<3.0.0,>=2.0.0->wikipedia) (3.0.4)\n",
            "Requirement already satisfied: certifi>=2017.4.17 in /usr/local/lib/python3.6/dist-packages (from requests<3.0.0,>=2.0.0->wikipedia) (2020.4.5.1)\n",
            "Requirement already satisfied: idna<2.9,>=2.5 in /usr/local/lib/python3.6/dist-packages (from requests<3.0.0,>=2.0.0->wikipedia) (2.8)\n",
            "Requirement already satisfied: urllib3<1.25,>=1.21.1 in /usr/local/lib/python3.6/dist-packages (from requests<3.0.0,>=2.0.0->wikipedia) (1.24.3)\n"
          ],
          "name": "stdout"
        }
      ]
    },
    {
      "cell_type": "code",
      "metadata": {
        "id": "6BZv85nloClC",
        "colab_type": "code",
        "outputId": "f0209e2e-9fcc-41c1-99bf-518dc4b0c172",
        "colab": {
          "base_uri": "https://localhost:8080/",
          "height": 200
        }
      },
      "source": [
        "download(['stopwords','punkt','averaged_perceptron_tagger','wordnet'])"
      ],
      "execution_count": 2,
      "outputs": [
        {
          "output_type": "stream",
          "text": [
            "[nltk_data] Downloading package stopwords to /root/nltk_data...\n",
            "[nltk_data]   Package stopwords is already up-to-date!\n",
            "[nltk_data] Downloading package punkt to /root/nltk_data...\n",
            "[nltk_data]   Package punkt is already up-to-date!\n",
            "[nltk_data] Downloading package averaged_perceptron_tagger to\n",
            "[nltk_data]     /root/nltk_data...\n",
            "[nltk_data]   Package averaged_perceptron_tagger is already up-to-\n",
            "[nltk_data]       date!\n",
            "[nltk_data] Downloading package wordnet to /root/nltk_data...\n",
            "[nltk_data]   Package wordnet is already up-to-date!\n"
          ],
          "name": "stdout"
        },
        {
          "output_type": "execute_result",
          "data": {
            "text/plain": [
              "True"
            ]
          },
          "metadata": {
            "tags": []
          },
          "execution_count": 2
        }
      ]
    },
    {
      "cell_type": "code",
      "metadata": {
        "id": "rDIabBX0njmw",
        "colab_type": "code",
        "colab": {}
      },
      "source": [
        "def read_text_article(source, n_sentences=-1):\n",
        "    article = {\"error\":False}\n",
        "    if source.find(\"http\")==0:\n",
        "      res = requests.get(source)\n",
        "      cookies = dict(res.cookies)\n",
        "      if res.status_code == 200:\n",
        "        filedata = ' '.join(res.content.decode('utf-8', errors='ignore').splitlines())\n",
        "        #filedata = filedata.decode('utf-8')\n",
        "        #if filedata.encoding == 'utf-8':\n",
        "        filedata = unicodedata.normalize('NFKC',filedata)\n",
        "      else:\n",
        "        print(\"Fehler: {}\".format(res.status_code))\n",
        "    else:\n",
        "      file = open(source, \"r\")\n",
        "      filedata = file.readlines()\n",
        "\n",
        "    article[\"text\"] = sent_tokenize(filedata)\n",
        "    sentences = []\n",
        "\n",
        "    for sentence in article[\"text\"]:\n",
        "        #print(sentence)\n",
        "        sentences.append(sentence.replace(\"[^a-zA-Z]\", \" \").split(\" \"))\n",
        "        \n",
        "    sentences.pop()\n",
        "    if n_sentences != -1:\n",
        "      sentences=sentences[0:n_sentences]\n",
        "\n",
        "    article[\"sentences\"] = sentences  \n",
        "    return article\n",
        "\n",
        "def read_online_article(url):\n",
        "    headers = {'User-Agent': 'Mozilla/5.0 (Linux; Android 5.1.1; SM-G928X Build/LMY47X) AppleWebKit/537.36 (KHTML, like Gecko) Chrome/47.0.2526.83 Mobile Safari/537.36'}\n",
        "    sess = requests.Session()\n",
        "    res=sess.get(url, headers=headers)\n",
        "    cookies = dict(res.cookies)\n",
        "    res = sess.post(url, cookies=cookies)\n",
        "    article = {\"error\":False}\n",
        "    if res.status_code == 200:\n",
        "      soup = BeautifulSoup(res.content.decode('utf-8',errors='ignore'), \"html.parser\")\n",
        "      # extract content\n",
        "      text=[]\n",
        "\n",
        "      article[\"tags\"]=[]\n",
        "      for tag in soup.find_all(\"meta\"):\n",
        "        if tag.get(\"property\", None) == \"og:title\":\n",
        "          article[\"title\"]   = tag.get(\"content\", None)\n",
        "        elif tag.get(\"property\", None) == \"article:published_time\":\n",
        "          article[\"date\"]    = tag.get(\"content\", None)\n",
        "        elif tag.get(\"property\", None) == \"og:locale\":\n",
        "          article[\"locale\"]   = tag.get(\"content\", None)\n",
        "        elif tag.get(\"property\", None) == \"og:type\":\n",
        "          article[\"type\"]   = tag.get(\"content\", None)\n",
        "        elif tag.get(\"property\", None) == \"article:tag\":\n",
        "          article[\"tags\"].append(tag.get(\"content\", None))\n",
        "        elif tag.get(\"property\", None) == \"og:description\":\n",
        "          article[\"description\"]   = tag.get(\"content\", None)\n",
        "        elif tag.get(\"property\", None) == \"og:site_name\":\n",
        "          article[\"site_name\"]   = tag.get(\"content\", None)\n",
        "\n",
        "      if \"title\" != article.values():\n",
        "          article[\"title\"]   = soup.find(\"title\").get_text().strip()\n",
        " \n",
        "      if urlparse(url).netloc   == 'www.electrive.net':\n",
        "        article[\"text\"] = soup.find(\"main\",attrs={\"id\": \"main\"}).get_text()\n",
        "      elif urlparse(url).netloc == 'help.orf.at':\n",
        "        article = soup.find(\"div\" , attrs={\"class\": \"storyText\", \"role\":\"article\"})\n",
        "        title   = article.find(\"title\")\n",
        "        article = article.get_text()\n",
        "      elif urlparse(url).netloc.find(\"orf.at\") >-1:\n",
        "        title   = soup.find(\"h1\", attrs={\"class\": \"story-lead-headline\"}).get_text()\n",
        "        article[\"text\"] = soup.find(\"div\", attrs={\"class\": \"story-story\"}).get_text()\n",
        "      elif urlparse(url).netloc == 'www.solarserver.de':\n",
        "        article[\"text\"] = soup.find(\"div\", attrs={\"class\": \"postContent bodyCopy entry-content clearfix\"}).get_text()\n",
        "      #elif urlparse(url).netloc == 'www.eon.com':\n",
        "       #article[\"text\"] = soup.find(\"div\", attrs={\"class\":\"content-body\"}).get_text()\n",
        "       # article[\"text\"] = soup.find(\"div\", attrs={\"class\":\"content-body\", \"id\":\"content\", \"role\":\"main\"}).get_text()\n",
        "      elif urlparse(url).netloc == 'www.derbrutkasten.com':\n",
        "        article[\"text\"] = soup.find(\"div\", attrs={\"id\": \"main-article\"}).get_text()\n",
        "      elif urlparse(url).netloc ==  'www.ots.at':\n",
        "        article[\"text\"] = soup.find(\"div\", attrs={\"class\": \"content\"}).get_text()\n",
        "      elif urlparse(url).netloc == 'futurezone.at':\n",
        "        article[\"text\"] = soup.find(\"div\", attrs={\"class\": \"article-paragraphs\"}).get_text()\n",
        "      elif urlparse(url).netloc.find('heise.de') >-1:\n",
        "        article[\"text\"] = soup.find(\"article\").get_text()\n",
        "      elif urlparse(url).netloc.find('golem.de') >-1:\n",
        "        article[\"text\"] = soup.find(\"article\").get_text()\n",
        "      elif urlparse(url).netloc == 'www.sonnewindwaerme.de':\n",
        "        article[\"text\"] = soup.find(\"div\",attrs={\"class\":\"text-wrapper\"}).get_text()\n",
        "      elif urlparse(url).netloc == 'industriemagazin.at':\n",
        "        article[\"text\"] = soup.find(\"div\",attrs={\"class\":\"text-wrapper\"}).get_text()\n",
        "      elif urlparse(url).netloc in ('www.speicherbranche.de','www.solarbranche.de','www.windbranche.de','www.energiefirmen.de','www.bioenergie-branche.de'):\n",
        "        article[\"text\"] = soup.find(\"div\",attrs={\"class\":\"newsdiv\"}).get_text().strip()\n",
        "      elif urlparse(url).netloc == 'www.iwr.de':\n",
        "        article[\"text\"] = soup.find(\"div\",attrs={\"id\":\"content\"}).get_text()\n",
        "      #elif urlparse(url).netloc == 'www.springerprofessional.de':\n",
        "      #  article[\"text\"] = soup.find(\"div\", attrs={\"class\":\"rich-text mtl\"}).get_text()\n",
        "      elif urlparse(url).netloc == 'www.alliander.de':\n",
        "        article[\"text\"] = soup.find(\"div\", attrs={\"class\":\"entry-content\", \"itemprop\":\"text\"}).get_text()\n",
        "      else:\n",
        "        text  = soup.find_all(\"p\")\n",
        "        sents=[]\n",
        "        for p in text:\n",
        "          for sent in sent_tokenize(p.get_text()):\n",
        "            sents.append(sent)\n",
        "        article[\"text\"] = \" \".join(sents)\n",
        "\n",
        "      text = sent_tokenize(article[\"text\"].strip())\n",
        "    else:\n",
        "      print(\"Fehler: {}\".format(res.status_code))\n",
        "      article = {\"error\":True}\n",
        "      return article\n",
        "\n",
        "    sentences = []\n",
        "\n",
        "    for sentence in text:\n",
        "        sentence = \" \".join(sentence.split())\n",
        "        #print(sentence)\n",
        "        sentences.append(sentence.replace(\"[^a-zA-Z]\", \" \").split(\" \"))\n",
        "        \n",
        "    sentences.pop()\n",
        "    article[\"sentences\"] = sentences\n",
        "    #print(len(sentences))\n",
        "    return article\n",
        "\n",
        "def read_wikipedia_article(title):\n",
        "    wiki = wikipedia.page(title)\n",
        "    article = sent_tokenize(wiki.content)\n",
        "    sentences = []\n",
        "\n",
        "    for sentence in article:\n",
        "        sentences.append(sentence.replace(\"[^a-zA-Z]\", \" \").split(\" \"))\n",
        "    sentences.pop() \n",
        "    #print(len(sentences))\n",
        "    return sentences\n",
        "\n",
        "def sentence_similarity(sent1, sent2, stopwords=None):\n",
        "    if stopwords is None:\n",
        "        stopwords = []\n",
        " \n",
        "    sent1 = [w.lower() for w in sent1]\n",
        "    sent2 = [w.lower() for w in sent2]\n",
        " \n",
        "    all_words = list(set(sent1 + sent2))\n",
        " \n",
        "    vector1 = [0] * len(all_words)\n",
        "    vector2 = [0] * len(all_words)\n",
        " \n",
        "    # build the vector for the first sentence\n",
        "    for w in sent1:\n",
        "        if w in stopwords:\n",
        "            continue\n",
        "        vector1[all_words.index(w)] += 1\n",
        " \n",
        "    # build the vector for the second sentence\n",
        "    for w in sent2:\n",
        "        if w in stopwords:\n",
        "            continue\n",
        "        vector2[all_words.index(w)] += 1\n",
        " \n",
        "    return 1 - cosine_distance(vector1, vector2)\n",
        " \n",
        "def build_similarity_matrix(sentences, stop_words):\n",
        "    # Create an empty similarity matrix\n",
        "    similarity_matrix = np.zeros((len(sentences), len(sentences)))\n",
        " \n",
        "    for idx1 in range(len(sentences)):\n",
        "        for idx2 in range(len(sentences)):\n",
        "            if idx1 == idx2: #ignore if both are same sentences\n",
        "                continue \n",
        "            similarity_matrix[idx1][idx2] = sentence_similarity(sentences[idx1], sentences[idx2], stop_words)\n",
        "\n",
        "    return similarity_matrix\n",
        "\n",
        "\n",
        "def generate_summary(source, top_n=5, url=False, wiki=False, lang='english', n_sentences=-1):\n",
        "\n",
        "    summarize_text = []\n",
        "    article={}\n",
        "\n",
        "    # Step 1 - Read text anc split it\n",
        "    if url == True:\n",
        "      article = read_online_article(source)\n",
        "    elif wiki == True:\n",
        "      sentences =  read_wikipedia_article(source)\n",
        "    else:\n",
        "      article = read_text_article(source, n_sentences)\n",
        "    \n",
        "    if article == {\"error\":True}:\n",
        "      return article\n",
        "    \n",
        "    sentences = article[\"sentences\"]\n",
        "    \n",
        "    if \"locale\" in article.keys():\n",
        "      if article[\"locale\"][0:2]  ==\"de\":\n",
        "        lang = \"german\"\n",
        "      elif article[\"loacle\"][0:2]  ==\"en\":\n",
        "        lang = \"english\"\n",
        "\n",
        "    stop_words = stopwords.words(lang)\n",
        "\n",
        "    # Step 2 - Generate Similary Martix across sentences\n",
        "    sentence_similarity_martix = build_similarity_matrix(sentences, stop_words)\n",
        "\n",
        "    # Step 3 - Rank sentences in similarity martix\n",
        "    sentence_similarity_graph = nx.from_numpy_array(sentence_similarity_martix)\n",
        "    scores = nx.pagerank(sentence_similarity_graph)\n",
        "\n",
        "    # Step 4 - Sort the rank and pick top sentences\n",
        "    ranked_sentence = sorted(((scores[i],s) for i,s in enumerate(sentences)), reverse=True)    \n",
        "    #print(\"Indexes of top ranked_sentence order are \", ranked_sentence)    \n",
        "\n",
        "    for i in range(top_n):\n",
        "      summarize_text.append(\" \".join(ranked_sentence[i][1]))\n",
        "\n",
        "    # Step 5 - Offcourse, output the summarize text\n",
        "    article[\"summary\"] = \" \".join(summarize_text)\n",
        "    #print(\"Summarize Text: \\n\", summary)\n",
        "    return article\n",
        "    \n",
        "def preprocess(sent):\n",
        "    sent = word_tokenize(sent)\n",
        "    sent = pos_tag(sent)\n",
        "    return sent"
      ],
      "execution_count": 0,
      "outputs": []
    },
    {
      "cell_type": "code",
      "metadata": {
        "id": "AknYemH1Rhp1",
        "colab_type": "code",
        "outputId": "147db377-1166-4235-e8c8-947c8013038d",
        "colab": {
          "base_uri": "https://localhost:8080/",
          "height": 70
        }
      },
      "source": [
        "article = 'http://www.gutenberg.org/files/53713/53713-0.txt'\n",
        "article = generate_summary( article, 3, lang='german', n_sentences=100)\n",
        "if article[\"error\"]==False:\n",
        "  for k in (\"title\",\"date\", \"summary\"):\n",
        "    if k in article.keys():\n",
        "      print(k)\n",
        "      print(article[k])"
      ],
      "execution_count": 4,
      "outputs": [
        {
          "output_type": "stream",
          "text": [
            "summary\n",
            "Mir wird heute noch ganz schwindelig, wenn ich daran denke, wie schön sie war. Ich hab' ganz genau gewußt, daß sie am Sonntag in die Schottenkirche geht, ich hab' gewußt, wann ich sie am Nachmittag in der Stadt treffe. Vor dreißig Jahren bin ich nämlich öfter stehengeblieben und hab' ihr nachgeschaut.\n"
          ],
          "name": "stdout"
        }
      ]
    },
    {
      "cell_type": "code",
      "metadata": {
        "id": "SBJfWc7KrkD-",
        "colab_type": "code",
        "outputId": "dd933e18-e2d3-4305-9736-79c86e5cd7d8",
        "colab": {
          "base_uri": "https://localhost:8080/",
          "height": 345
        }
      },
      "source": [
        "#url='https://orf.at/stories/3161835/'\n",
        "#url='https://orf.at/stories/3162239/'\n",
        "#url='https://help.orf.at/stories/3001436/'\n",
        "#url='https://noe.orf.at/stories/3044405/'\n",
        "#url=\"https://www.electrive.net/2020/04/16/new-mobility-enterprise-bringt-elektro-van-aus-china-nach-oesterreich/\"\n",
        "#url=\"http://www.solarserver.de/solar-magazin/nachrichten/aktuelles/2015/kw51/sonnen-gmbh-startet-auslieferung-des-intelligenten-batteriespeicher-systems-sonnenbatterie-in-den-usa.html\"\n",
        "url=\"https://www.eon.com/de/ueber-uns/presse/press-releases/2019/2019-07-19-eon-applies-for-digital-patent-for-full-customer-data-control.html\"\n",
        "#url=\"https://www.ots.at/presseaussendung/OTS_20200319_OTS0119/coronavirus-versorgungssicherheit-als-hoechstes-gut\"\n",
        "#url=\"https://www.ots.at/presseaussendung/OTS_20160606_OTS0028/pwc-studie-neue-technologiefaktoren-veraendern-finanzdienstleistungen?utm_source=2016-06-06&utm_medium=email&utm_content=html&utm_campaign=mailabodigest\"\n",
        "#url=\"https://futurezone.at/apps/google-startet-augmented-reality-plattform-arcore-10/400004972\"\n",
        "#url=\"https://www.derbrutkasten.com/wiener-stadtwerke-grape/\"\n",
        "#url=\"https://www.heise.de/newsticker/meldung/Einstein-behaelt-Recht-Stern-rast-in-Rosettenbahn-um-Schwarzes-Loch-4703533.html\"\n",
        "#url=\"https://www.golem.de/news/corsa-e-probe-gefahren-ein-kleiner-flitzer-soll-die-masse-elektrifizieren-2004-147893.html\"\n",
        "#Fehler!#url=\"https://www.sonnewindwaerme.de/panorama/ammoniak-nachhaltiger-energietraeger\"\n",
        "#url=\"https://industriemagazin.at/a/deutsche-behoerden-verhindern-millionenbetrug-mit-windkraft\"\n",
        "#url='https://www.speicherbranche.de/news/nachrichten/artikel-36680-tesvolt-steigt-in-die-grossproduktion-von-batteriespeichern-ein-'\n",
        "#url=\"https://www.solarbranche.de/news/nachrichten/artikel-36694-encavis-schuettet-planmaessig-hoehere-dividende-aus\"\n",
        "#url=\"https://www.iwr.de/news.php?id=36657\"\n",
        "#url=\"https://www.derstandard.at/story/2000024337615/tesla-hausbatterie-kommt-nach-oesterreich\"\n",
        "#url=\"https://www.springerprofessional.de/energie/energiespeicher/energie-aus-der-nachbarschaft-speichern-und-nutzen/6595482\"\n",
        "#url=\"https://www.solarserver.de/solar-magazin/nachrichten/aktuelles/2018/kw06/schwedische-dorfbewohner-versorgen-sich-komplett-selbst-mit-energie.html\"\n",
        "#url='https://www.alliander.de/alliander-startet-ersten-flexibilitaetsmarkt-in-den-niederlanden/'\n",
        "#url='https://www.alliander.de/stadtwerke-begreifen-die-digitalisierung-mehrheitlich-als-chance/'\n",
        "#url='https://www.smart2zero.com/news/450kw-charging-station-goes-online/page/0/1'\n",
        "#url='https://www.i-magazin.com/entspannung-gesucht/'\n",
        "#url=\"https://www.faz.net/aktuell/wirtschaft/neue-mobilitaet/sharing-modell-daimler-plant-car2go-fuer-gewerbekunden-14893806.html?GEPC=s5\"\n",
        "article = generate_summary( url, 3, url=True, lang='german')\n",
        "if article[\"error\"]==False:\n",
        "  for k in (\"title\",\"date\", \"summary\",\"tags\"):\n",
        "    if k in article.keys():\n",
        "      print(k)\n",
        "      print(article[k])\n",
        "\n",
        "#preprocess(summary)"
      ],
      "execution_count": 9,
      "outputs": [
        {
          "output_type": "error",
          "ename": "IndexError",
          "evalue": "ignored",
          "traceback": [
            "\u001b[0;31m---------------------------------------------------------------------------\u001b[0m",
            "\u001b[0;31mIndexError\u001b[0m                                Traceback (most recent call last)",
            "\u001b[0;32m<ipython-input-9-c44a868f74c3>\u001b[0m in \u001b[0;36m<module>\u001b[0;34m()\u001b[0m\n\u001b[1;32m     19\u001b[0m \u001b[0;31m#url='https://www.i-magazin.com/entspannung-gesucht/'\u001b[0m\u001b[0;34m\u001b[0m\u001b[0;34m\u001b[0m\u001b[0;34m\u001b[0m\u001b[0m\n\u001b[1;32m     20\u001b[0m \u001b[0;31m#url=\"https://www.faz.net/aktuell/wirtschaft/neue-mobilitaet/sharing-modell-daimler-plant-car2go-fuer-gewerbekunden-14893806.html?GEPC=s5\"\u001b[0m\u001b[0;34m\u001b[0m\u001b[0;34m\u001b[0m\u001b[0;34m\u001b[0m\u001b[0m\n\u001b[0;32m---> 21\u001b[0;31m \u001b[0marticle\u001b[0m \u001b[0;34m=\u001b[0m \u001b[0mgenerate_summary\u001b[0m\u001b[0;34m(\u001b[0m \u001b[0murl\u001b[0m\u001b[0;34m,\u001b[0m \u001b[0;36m3\u001b[0m\u001b[0;34m,\u001b[0m \u001b[0murl\u001b[0m\u001b[0;34m=\u001b[0m\u001b[0;32mTrue\u001b[0m\u001b[0;34m,\u001b[0m \u001b[0mlang\u001b[0m\u001b[0;34m=\u001b[0m\u001b[0;34m'german'\u001b[0m\u001b[0;34m)\u001b[0m\u001b[0;34m\u001b[0m\u001b[0;34m\u001b[0m\u001b[0m\n\u001b[0m\u001b[1;32m     22\u001b[0m \u001b[0;32mif\u001b[0m \u001b[0marticle\u001b[0m\u001b[0;34m[\u001b[0m\u001b[0;34m\"error\"\u001b[0m\u001b[0;34m]\u001b[0m\u001b[0;34m==\u001b[0m\u001b[0;32mFalse\u001b[0m\u001b[0;34m:\u001b[0m\u001b[0;34m\u001b[0m\u001b[0;34m\u001b[0m\u001b[0m\n\u001b[1;32m     23\u001b[0m   \u001b[0;32mfor\u001b[0m \u001b[0mk\u001b[0m \u001b[0;32min\u001b[0m \u001b[0;34m(\u001b[0m\u001b[0;34m\"title\"\u001b[0m\u001b[0;34m,\u001b[0m\u001b[0;34m\"date\"\u001b[0m\u001b[0;34m,\u001b[0m \u001b[0;34m\"summary\"\u001b[0m\u001b[0;34m,\u001b[0m\u001b[0;34m\"tags\"\u001b[0m\u001b[0;34m)\u001b[0m\u001b[0;34m:\u001b[0m\u001b[0;34m\u001b[0m\u001b[0;34m\u001b[0m\u001b[0m\n",
            "\u001b[0;32m<ipython-input-8-a53a335cf1ee>\u001b[0m in \u001b[0;36mgenerate_summary\u001b[0;34m(source, top_n, url, wiki, lang, n_sentences)\u001b[0m\n\u001b[1;32m    211\u001b[0m \u001b[0;34m\u001b[0m\u001b[0m\n\u001b[1;32m    212\u001b[0m     \u001b[0;32mfor\u001b[0m \u001b[0mi\u001b[0m \u001b[0;32min\u001b[0m \u001b[0mrange\u001b[0m\u001b[0;34m(\u001b[0m\u001b[0mtop_n\u001b[0m\u001b[0;34m)\u001b[0m\u001b[0;34m:\u001b[0m\u001b[0;34m\u001b[0m\u001b[0;34m\u001b[0m\u001b[0m\n\u001b[0;32m--> 213\u001b[0;31m       \u001b[0msummarize_text\u001b[0m\u001b[0;34m.\u001b[0m\u001b[0mappend\u001b[0m\u001b[0;34m(\u001b[0m\u001b[0;34m\" \"\u001b[0m\u001b[0;34m.\u001b[0m\u001b[0mjoin\u001b[0m\u001b[0;34m(\u001b[0m\u001b[0mranked_sentence\u001b[0m\u001b[0;34m[\u001b[0m\u001b[0mi\u001b[0m\u001b[0;34m]\u001b[0m\u001b[0;34m[\u001b[0m\u001b[0;36m1\u001b[0m\u001b[0;34m]\u001b[0m\u001b[0;34m)\u001b[0m\u001b[0;34m)\u001b[0m\u001b[0;34m\u001b[0m\u001b[0;34m\u001b[0m\u001b[0m\n\u001b[0m\u001b[1;32m    214\u001b[0m \u001b[0;34m\u001b[0m\u001b[0m\n\u001b[1;32m    215\u001b[0m     \u001b[0;31m# Step 5 - Offcourse, output the summarize text\u001b[0m\u001b[0;34m\u001b[0m\u001b[0;34m\u001b[0m\u001b[0;34m\u001b[0m\u001b[0m\n",
            "\u001b[0;31mIndexError\u001b[0m: list index out of range"
          ]
        }
      ]
    },
    {
      "cell_type": "code",
      "metadata": {
        "id": "U-j_s1jvoVQZ",
        "colab_type": "code",
        "outputId": "37f1315f-14b9-49ef-a5cd-a7c88579b152",
        "colab": {
          "base_uri": "https://localhost:8080/",
          "height": 287
        }
      },
      "source": [
        "url=\"https://www.derstandard.at/story/2000024337615/tesla-hausbatterie-kommt-nach-oesterreich\"\n",
        "#url=\"https://www.springerprofessional.de/energie/energiespeicher/energie-aus-der-nachbarschaft-speichern-und-nutzen/6595482\"\n",
        "#url='https://www.eon.com/de/ueber-uns/presse/pressemitteilungen/2016/2016-04-05-eon-a-core-partner-in-project-to-promote-energy-transition.html'\n",
        "#url='https://www.alliander.de/stadtwerke-begreifen-die-digitalisierung-mehrheitlich-als-chance/'\n",
        "sess= requests.Session()\n",
        "res=sess.get(url)\n",
        "cookies=dict(res.cookies)\n",
        "print(res.status_code)\n",
        "#res=sess.post(url,cookies=cookies)\n",
        "soup = BeautifulSoup(res.content, \"html.parser\")\n",
        "#soup.get_text()\n",
        "text  = soup.find_all(\"p\")\n",
        "sents=[]\n",
        "for p in text:\n",
        "  for sent in sent_tokenize(p.get_text()):\n",
        "    sents.append(sent)\n",
        "sents\n",
        "#sent_tokenize(text)\n",
        "\n",
        "#for line in text:\n",
        "#  if line in ['\\n','','.']:\n",
        "#    continue\n",
        "#  for token in sent_tokenize(line):\n",
        "#    sents.append(token) \n",
        "#sents\n",
        "#text = soup.find(\"div\", attrs={\"class\":\"content-body\", \"id\":\"content\", \"role\":\"main\"}).get_text().strip()\n",
        "#sent_tokenize(text)\n",
        "#soup.find(\"title\").get_text().strip()"
      ],
      "execution_count": 228,
      "outputs": [
        {
          "output_type": "stream",
          "text": [
            "200\n"
          ],
          "name": "stdout"
        },
        {
          "output_type": "execute_result",
          "data": {
            "text/plain": [
              "['Die Powerwall speichert selbsterzeugten Strom, der Verbund führt die Technologie hierzulande ein',\n",
              " 'Wien – Sie wird an die Wand gehängt und ist mit Kapazitäten von sieben kWh erhältlich, bei Stromausfällen dient sie als Backup und in Smart-Grids als Sparschwein: Mit diesem Konzept will der US-Elektroautopionier Tesla die Energieversorgung von Häusern revolutionieren.',\n",
              " 'Nun kommt die Powerwall nach Österreich, kündigte der Verbund am Donnerstag an.',\n",
              " 'Ich stimme der Verwendung von Cookies für die Zwecke der Webanalyse und digitaler Werbemaßnahmen zu.',\n",
              " 'Auch wenn ich diese Website weiter nutze, gilt dies als Zustimmung.',\n",
              " 'Meine Einwilligung kann ich hier widerrufen.',\n",
              " 'Weitere Informationen finde ich in der Datenschutzerklärung.',\n",
              " 'Es ist ein Fehler aufgetreten.',\n",
              " 'Bitte versuchen Sie es später erneut.',\n",
              " 'Sie haben Cookies deaktiviert.',\n",
              " 'Sie müssen Cookies in Ihrem Browser aktivieren und die Seite neu laden, um zustimmen zu können.',\n",
              " 'Abo ohne Daten-Zustimmung',\n",
              " 'Mit einem derStandard.at PUR-Abo kann die gesamte Website ohne zustimmungspflichtige Cookies und ohne Werbung genutzt werden.',\n",
              " 'Details zum Abo.']"
            ]
          },
          "metadata": {
            "tags": []
          },
          "execution_count": 228
        }
      ]
    },
    {
      "cell_type": "code",
      "metadata": {
        "id": "MBrVy3QsrxV8",
        "colab_type": "code",
        "colab": {
          "base_uri": "https://localhost:8080/",
          "height": 33
        },
        "outputId": "710ba3ea-c5d9-465f-e3be-e52bb2e4cc32"
      },
      "source": [
        "'\\xc0msterdam'"
      ],
      "execution_count": 238,
      "outputs": [
        {
          "output_type": "execute_result",
          "data": {
            "text/plain": [
              "'Àmsterdam'"
            ]
          },
          "metadata": {
            "tags": []
          },
          "execution_count": 238
        }
      ]
    },
    {
      "cell_type": "code",
      "metadata": {
        "id": "PDHTx9iiwy9D",
        "colab_type": "code",
        "outputId": "67038524-3478-4514-d3af-180eeabf720b",
        "colab": {
          "base_uri": "https://localhost:8080/",
          "height": 55
        }
      },
      "source": [
        "stemmer= SnowballStemmer(\"german\", ignore_stopwords=True)\n",
        "pos=[]\n",
        "for token in pos_tag(word_tokenize(article[\"text\"])):\n",
        "  if token[1] in ('NNP'): \n",
        "    pos.append(stemmer.stem(token[0]))\n",
        "    #pos.append(token[0])\n",
        "#pos\n",
        "fdist = FreqDist(word.lower() for word in pos)\n",
        "fdist.pformat(40)"
      ],
      "execution_count": 0,
      "outputs": [
        {
          "output_type": "execute_result",
          "data": {
            "text/plain": [
              "\"FreqDist({'der': 16, 'die': 12, 'und': 9, 'mitarbeit': 8, 'mitarbeiterinn': 6, 'zu': 5, 'netz': 4, 'von': 4, 'arbeit': 4, 'coronavirus': 3, 'kelag-konz': 3, 'ist': 3, 'kng-karnt': 3, 'gmbh': 3, 'im': 3, 'auf': 3, 'kontakt': 3, 'für': 3, 'sowi': 3, 'bis': 3, 'strom-': 2, 'erdgas-': 2, 'warmeversorg': 2, 'klagenfurt': 2, 'energie-': 2, 'netzleitstell': 2, 'kelag': 2, 'uhr': 2, 'das': 2, 'vor': 2, 'umgesetzt': 2, 'hygienemassnahm': 2, 'verantwort': 2, 'betrieb': 2, 'unter': 2, 'umsetzungsphas': 2, 'mit': 2, 'haus': 2, 'versorgungssich': 1, 'gut': 1, ...})\""
            ]
          },
          "metadata": {
            "tags": []
          },
          "execution_count": 89
        }
      ]
    },
    {
      "cell_type": "code",
      "metadata": {
        "id": "4LUAY4991pAK",
        "colab_type": "code",
        "colab": {}
      },
      "source": [
        ""
      ],
      "execution_count": 0,
      "outputs": []
    },
    {
      "cell_type": "code",
      "metadata": {
        "id": "arJPKs3K2sC-",
        "colab_type": "code",
        "colab": {}
      },
      "source": [
        "#Wikipedia\n",
        "wikipedia.set_lang(\"en\")\n",
        "summary = generate_summary( \"Keke Rosberg\",2, wiki=True, lang='english')\n",
        "preprocess(summary)"
      ],
      "execution_count": 0,
      "outputs": []
    },
    {
      "cell_type": "code",
      "metadata": {
        "id": "zxRQarKO8AFf",
        "colab_type": "code",
        "colab": {}
      },
      "source": [
        "wikipedia.search(\"Mensch\", results=3)"
      ],
      "execution_count": 0,
      "outputs": []
    },
    {
      "cell_type": "code",
      "metadata": {
        "id": "3oO1E8h5CoWi",
        "colab_type": "code",
        "colab": {}
      },
      "source": [
        "wikipedia.summary(\"Mensch\", sentences=5)"
      ],
      "execution_count": 0,
      "outputs": []
    },
    {
      "cell_type": "code",
      "metadata": {
        "id": "3wKLoHxd_WfO",
        "colab_type": "code",
        "colab": {
          "base_uri": "https://localhost:8080/",
          "height": 167
        },
        "outputId": "4379893f-830f-4fbb-abd1-0b4497484ea1"
      },
      "source": [
        "!pip install spacy_sentiws"
      ],
      "execution_count": 10,
      "outputs": [
        {
          "output_type": "stream",
          "text": [
            "Collecting spacy_sentiws\n",
            "  Downloading https://files.pythonhosted.org/packages/b2/65/4227f4947ad13d8ba2b0aedeff79e2c9e43ff7daa1b78220d82f74428fe7/spacy_sentiws-0.0.6.tar.gz\n",
            "Building wheels for collected packages: spacy-sentiws\n",
            "  Building wheel for spacy-sentiws (setup.py) ... \u001b[?25l\u001b[?25hdone\n",
            "  Created wheel for spacy-sentiws: filename=spacy_sentiws-0.0.6-cp36-none-any.whl size=3537 sha256=eda4f711f5a82d596eebd1d65487386f01d250811639ada8485648f5f70bfafe\n",
            "  Stored in directory: /root/.cache/pip/wheels/cd/d3/36/cc97ed49b6a64788fdd0d0e28abad04accca98aea066a4e47d\n",
            "Successfully built spacy-sentiws\n",
            "Installing collected packages: spacy-sentiws\n",
            "Successfully installed spacy-sentiws-0.0.6\n"
          ],
          "name": "stdout"
        }
      ]
    },
    {
      "cell_type": "code",
      "metadata": {
        "id": "QRZ78VJIWjky",
        "colab_type": "code",
        "colab": {}
      },
      "source": [
        "import spacy\n",
        "from spacy_sentiws import spaCySentiWS\n",
        "from collections import Counter\n",
        "from string import punctuation"
      ],
      "execution_count": 0,
      "outputs": []
    },
    {
      "cell_type": "code",
      "metadata": {
        "id": "qvBzni4PXA-q",
        "colab_type": "code",
        "outputId": "55a5a358-62d6-4d4e-8f3e-e3e27975ce5b",
        "colab": {
          "base_uri": "https://localhost:8080/",
          "height": 1000
        }
      },
      "source": [
        "!python -m spacy download de_core_news_sm\n",
        "!python -m spacy download de_core_news_md\n",
        "!python -m spacy download xx_ent_wiki_sm\n",
        "!python -m spacy download en_core_web_lg\n",
        "#!python -m spacy download de_core_news_md\n",
        "!python -m spacy validate"
      ],
      "execution_count": 47,
      "outputs": [
        {
          "output_type": "stream",
          "text": [
            "Requirement already satisfied: de_core_news_sm==2.2.5 from https://github.com/explosion/spacy-models/releases/download/de_core_news_sm-2.2.5/de_core_news_sm-2.2.5.tar.gz#egg=de_core_news_sm==2.2.5 in /usr/local/lib/python3.6/dist-packages (2.2.5)\n",
            "Requirement already satisfied: spacy>=2.2.2 in /usr/local/lib/python3.6/dist-packages (from de_core_news_sm==2.2.5) (2.2.4)\n",
            "Requirement already satisfied: blis<0.5.0,>=0.4.0 in /usr/local/lib/python3.6/dist-packages (from spacy>=2.2.2->de_core_news_sm==2.2.5) (0.4.1)\n",
            "Requirement already satisfied: preshed<3.1.0,>=3.0.2 in /usr/local/lib/python3.6/dist-packages (from spacy>=2.2.2->de_core_news_sm==2.2.5) (3.0.2)\n",
            "Requirement already satisfied: tqdm<5.0.0,>=4.38.0 in /usr/local/lib/python3.6/dist-packages (from spacy>=2.2.2->de_core_news_sm==2.2.5) (4.38.0)\n",
            "Requirement already satisfied: setuptools in /usr/local/lib/python3.6/dist-packages (from spacy>=2.2.2->de_core_news_sm==2.2.5) (46.1.3)\n",
            "Requirement already satisfied: numpy>=1.15.0 in /usr/local/lib/python3.6/dist-packages (from spacy>=2.2.2->de_core_news_sm==2.2.5) (1.18.2)\n",
            "Requirement already satisfied: cymem<2.1.0,>=2.0.2 in /usr/local/lib/python3.6/dist-packages (from spacy>=2.2.2->de_core_news_sm==2.2.5) (2.0.3)\n",
            "Requirement already satisfied: thinc==7.4.0 in /usr/local/lib/python3.6/dist-packages (from spacy>=2.2.2->de_core_news_sm==2.2.5) (7.4.0)\n",
            "Requirement already satisfied: requests<3.0.0,>=2.13.0 in /usr/local/lib/python3.6/dist-packages (from spacy>=2.2.2->de_core_news_sm==2.2.5) (2.21.0)\n",
            "Requirement already satisfied: wasabi<1.1.0,>=0.4.0 in /usr/local/lib/python3.6/dist-packages (from spacy>=2.2.2->de_core_news_sm==2.2.5) (0.6.0)\n",
            "Requirement already satisfied: plac<1.2.0,>=0.9.6 in /usr/local/lib/python3.6/dist-packages (from spacy>=2.2.2->de_core_news_sm==2.2.5) (1.1.3)\n",
            "Requirement already satisfied: catalogue<1.1.0,>=0.0.7 in /usr/local/lib/python3.6/dist-packages (from spacy>=2.2.2->de_core_news_sm==2.2.5) (1.0.0)\n",
            "Requirement already satisfied: srsly<1.1.0,>=1.0.2 in /usr/local/lib/python3.6/dist-packages (from spacy>=2.2.2->de_core_news_sm==2.2.5) (1.0.2)\n",
            "Requirement already satisfied: murmurhash<1.1.0,>=0.28.0 in /usr/local/lib/python3.6/dist-packages (from spacy>=2.2.2->de_core_news_sm==2.2.5) (1.0.2)\n",
            "Requirement already satisfied: urllib3<1.25,>=1.21.1 in /usr/local/lib/python3.6/dist-packages (from requests<3.0.0,>=2.13.0->spacy>=2.2.2->de_core_news_sm==2.2.5) (1.24.3)\n",
            "Requirement already satisfied: certifi>=2017.4.17 in /usr/local/lib/python3.6/dist-packages (from requests<3.0.0,>=2.13.0->spacy>=2.2.2->de_core_news_sm==2.2.5) (2020.4.5.1)\n",
            "Requirement already satisfied: idna<2.9,>=2.5 in /usr/local/lib/python3.6/dist-packages (from requests<3.0.0,>=2.13.0->spacy>=2.2.2->de_core_news_sm==2.2.5) (2.8)\n",
            "Requirement already satisfied: chardet<3.1.0,>=3.0.2 in /usr/local/lib/python3.6/dist-packages (from requests<3.0.0,>=2.13.0->spacy>=2.2.2->de_core_news_sm==2.2.5) (3.0.4)\n",
            "Requirement already satisfied: importlib-metadata>=0.20; python_version < \"3.8\" in /usr/local/lib/python3.6/dist-packages (from catalogue<1.1.0,>=0.0.7->spacy>=2.2.2->de_core_news_sm==2.2.5) (1.6.0)\n",
            "Requirement already satisfied: zipp>=0.5 in /usr/local/lib/python3.6/dist-packages (from importlib-metadata>=0.20; python_version < \"3.8\"->catalogue<1.1.0,>=0.0.7->spacy>=2.2.2->de_core_news_sm==2.2.5) (3.1.0)\n",
            "\u001b[38;5;2m✔ Download and installation successful\u001b[0m\n",
            "You can now load the model via spacy.load('de_core_news_sm')\n",
            "Collecting de_core_news_md==2.2.5\n",
            "\u001b[?25l  Downloading https://github.com/explosion/spacy-models/releases/download/de_core_news_md-2.2.5/de_core_news_md-2.2.5.tar.gz (224.6MB)\n",
            "\u001b[K     |████████████████████████████████| 224.6MB 1.2MB/s \n",
            "\u001b[?25hRequirement already satisfied: spacy>=2.2.2 in /usr/local/lib/python3.6/dist-packages (from de_core_news_md==2.2.5) (2.2.4)\n",
            "Requirement already satisfied: plac<1.2.0,>=0.9.6 in /usr/local/lib/python3.6/dist-packages (from spacy>=2.2.2->de_core_news_md==2.2.5) (1.1.3)\n",
            "Requirement already satisfied: preshed<3.1.0,>=3.0.2 in /usr/local/lib/python3.6/dist-packages (from spacy>=2.2.2->de_core_news_md==2.2.5) (3.0.2)\n",
            "Requirement already satisfied: tqdm<5.0.0,>=4.38.0 in /usr/local/lib/python3.6/dist-packages (from spacy>=2.2.2->de_core_news_md==2.2.5) (4.38.0)\n",
            "Requirement already satisfied: thinc==7.4.0 in /usr/local/lib/python3.6/dist-packages (from spacy>=2.2.2->de_core_news_md==2.2.5) (7.4.0)\n",
            "Requirement already satisfied: blis<0.5.0,>=0.4.0 in /usr/local/lib/python3.6/dist-packages (from spacy>=2.2.2->de_core_news_md==2.2.5) (0.4.1)\n",
            "Requirement already satisfied: requests<3.0.0,>=2.13.0 in /usr/local/lib/python3.6/dist-packages (from spacy>=2.2.2->de_core_news_md==2.2.5) (2.21.0)\n",
            "Requirement already satisfied: numpy>=1.15.0 in /usr/local/lib/python3.6/dist-packages (from spacy>=2.2.2->de_core_news_md==2.2.5) (1.18.2)\n",
            "Requirement already satisfied: catalogue<1.1.0,>=0.0.7 in /usr/local/lib/python3.6/dist-packages (from spacy>=2.2.2->de_core_news_md==2.2.5) (1.0.0)\n",
            "Requirement already satisfied: cymem<2.1.0,>=2.0.2 in /usr/local/lib/python3.6/dist-packages (from spacy>=2.2.2->de_core_news_md==2.2.5) (2.0.3)\n",
            "Requirement already satisfied: setuptools in /usr/local/lib/python3.6/dist-packages (from spacy>=2.2.2->de_core_news_md==2.2.5) (46.1.3)\n",
            "Requirement already satisfied: murmurhash<1.1.0,>=0.28.0 in /usr/local/lib/python3.6/dist-packages (from spacy>=2.2.2->de_core_news_md==2.2.5) (1.0.2)\n",
            "Requirement already satisfied: srsly<1.1.0,>=1.0.2 in /usr/local/lib/python3.6/dist-packages (from spacy>=2.2.2->de_core_news_md==2.2.5) (1.0.2)\n",
            "Requirement already satisfied: wasabi<1.1.0,>=0.4.0 in /usr/local/lib/python3.6/dist-packages (from spacy>=2.2.2->de_core_news_md==2.2.5) (0.6.0)\n",
            "Requirement already satisfied: chardet<3.1.0,>=3.0.2 in /usr/local/lib/python3.6/dist-packages (from requests<3.0.0,>=2.13.0->spacy>=2.2.2->de_core_news_md==2.2.5) (3.0.4)\n",
            "Requirement already satisfied: idna<2.9,>=2.5 in /usr/local/lib/python3.6/dist-packages (from requests<3.0.0,>=2.13.0->spacy>=2.2.2->de_core_news_md==2.2.5) (2.8)\n",
            "Requirement already satisfied: certifi>=2017.4.17 in /usr/local/lib/python3.6/dist-packages (from requests<3.0.0,>=2.13.0->spacy>=2.2.2->de_core_news_md==2.2.5) (2020.4.5.1)\n",
            "Requirement already satisfied: urllib3<1.25,>=1.21.1 in /usr/local/lib/python3.6/dist-packages (from requests<3.0.0,>=2.13.0->spacy>=2.2.2->de_core_news_md==2.2.5) (1.24.3)\n",
            "Requirement already satisfied: importlib-metadata>=0.20; python_version < \"3.8\" in /usr/local/lib/python3.6/dist-packages (from catalogue<1.1.0,>=0.0.7->spacy>=2.2.2->de_core_news_md==2.2.5) (1.6.0)\n",
            "Requirement already satisfied: zipp>=0.5 in /usr/local/lib/python3.6/dist-packages (from importlib-metadata>=0.20; python_version < \"3.8\"->catalogue<1.1.0,>=0.0.7->spacy>=2.2.2->de_core_news_md==2.2.5) (3.1.0)\n",
            "Building wheels for collected packages: de-core-news-md\n",
            "  Building wheel for de-core-news-md (setup.py) ... \u001b[?25l\u001b[?25hdone\n",
            "  Created wheel for de-core-news-md: filename=de_core_news_md-2.2.5-cp36-none-any.whl size=228399478 sha256=a393f55e0cdbc72118f909e60c60ac039794a87eef665b18e4e1d085b63c7794\n",
            "  Stored in directory: /tmp/pip-ephem-wheel-cache-8pssaa62/wheels/41/60/41/81898870259d7c19fe8f9e46a537611c939f0c425eee2e1785\n",
            "Successfully built de-core-news-md\n",
            "Installing collected packages: de-core-news-md\n",
            "Successfully installed de-core-news-md-2.2.5\n",
            "\u001b[38;5;2m✔ Download and installation successful\u001b[0m\n",
            "You can now load the model via spacy.load('de_core_news_md')\n",
            "Requirement already satisfied: xx_ent_wiki_sm==2.2.0 from https://github.com/explosion/spacy-models/releases/download/xx_ent_wiki_sm-2.2.0/xx_ent_wiki_sm-2.2.0.tar.gz#egg=xx_ent_wiki_sm==2.2.0 in /usr/local/lib/python3.6/dist-packages (2.2.0)\n",
            "Requirement already satisfied: spacy>=2.2.0 in /usr/local/lib/python3.6/dist-packages (from xx_ent_wiki_sm==2.2.0) (2.2.4)\n",
            "Requirement already satisfied: tqdm<5.0.0,>=4.38.0 in /usr/local/lib/python3.6/dist-packages (from spacy>=2.2.0->xx_ent_wiki_sm==2.2.0) (4.38.0)\n",
            "Requirement already satisfied: requests<3.0.0,>=2.13.0 in /usr/local/lib/python3.6/dist-packages (from spacy>=2.2.0->xx_ent_wiki_sm==2.2.0) (2.21.0)\n",
            "Requirement already satisfied: blis<0.5.0,>=0.4.0 in /usr/local/lib/python3.6/dist-packages (from spacy>=2.2.0->xx_ent_wiki_sm==2.2.0) (0.4.1)\n",
            "Requirement already satisfied: preshed<3.1.0,>=3.0.2 in /usr/local/lib/python3.6/dist-packages (from spacy>=2.2.0->xx_ent_wiki_sm==2.2.0) (3.0.2)\n",
            "Requirement already satisfied: srsly<1.1.0,>=1.0.2 in /usr/local/lib/python3.6/dist-packages (from spacy>=2.2.0->xx_ent_wiki_sm==2.2.0) (1.0.2)\n",
            "Requirement already satisfied: thinc==7.4.0 in /usr/local/lib/python3.6/dist-packages (from spacy>=2.2.0->xx_ent_wiki_sm==2.2.0) (7.4.0)\n",
            "Requirement already satisfied: cymem<2.1.0,>=2.0.2 in /usr/local/lib/python3.6/dist-packages (from spacy>=2.2.0->xx_ent_wiki_sm==2.2.0) (2.0.3)\n",
            "Requirement already satisfied: setuptools in /usr/local/lib/python3.6/dist-packages (from spacy>=2.2.0->xx_ent_wiki_sm==2.2.0) (46.1.3)\n",
            "Requirement already satisfied: wasabi<1.1.0,>=0.4.0 in /usr/local/lib/python3.6/dist-packages (from spacy>=2.2.0->xx_ent_wiki_sm==2.2.0) (0.6.0)\n",
            "Requirement already satisfied: numpy>=1.15.0 in /usr/local/lib/python3.6/dist-packages (from spacy>=2.2.0->xx_ent_wiki_sm==2.2.0) (1.18.2)\n",
            "Requirement already satisfied: plac<1.2.0,>=0.9.6 in /usr/local/lib/python3.6/dist-packages (from spacy>=2.2.0->xx_ent_wiki_sm==2.2.0) (1.1.3)\n",
            "Requirement already satisfied: catalogue<1.1.0,>=0.0.7 in /usr/local/lib/python3.6/dist-packages (from spacy>=2.2.0->xx_ent_wiki_sm==2.2.0) (1.0.0)\n",
            "Requirement already satisfied: murmurhash<1.1.0,>=0.28.0 in /usr/local/lib/python3.6/dist-packages (from spacy>=2.2.0->xx_ent_wiki_sm==2.2.0) (1.0.2)\n",
            "Requirement already satisfied: idna<2.9,>=2.5 in /usr/local/lib/python3.6/dist-packages (from requests<3.0.0,>=2.13.0->spacy>=2.2.0->xx_ent_wiki_sm==2.2.0) (2.8)\n",
            "Requirement already satisfied: chardet<3.1.0,>=3.0.2 in /usr/local/lib/python3.6/dist-packages (from requests<3.0.0,>=2.13.0->spacy>=2.2.0->xx_ent_wiki_sm==2.2.0) (3.0.4)\n",
            "Requirement already satisfied: urllib3<1.25,>=1.21.1 in /usr/local/lib/python3.6/dist-packages (from requests<3.0.0,>=2.13.0->spacy>=2.2.0->xx_ent_wiki_sm==2.2.0) (1.24.3)\n",
            "Requirement already satisfied: certifi>=2017.4.17 in /usr/local/lib/python3.6/dist-packages (from requests<3.0.0,>=2.13.0->spacy>=2.2.0->xx_ent_wiki_sm==2.2.0) (2020.4.5.1)\n",
            "Requirement already satisfied: importlib-metadata>=0.20; python_version < \"3.8\" in /usr/local/lib/python3.6/dist-packages (from catalogue<1.1.0,>=0.0.7->spacy>=2.2.0->xx_ent_wiki_sm==2.2.0) (1.6.0)\n",
            "Requirement already satisfied: zipp>=0.5 in /usr/local/lib/python3.6/dist-packages (from importlib-metadata>=0.20; python_version < \"3.8\"->catalogue<1.1.0,>=0.0.7->spacy>=2.2.0->xx_ent_wiki_sm==2.2.0) (3.1.0)\n",
            "\u001b[38;5;2m✔ Download and installation successful\u001b[0m\n",
            "You can now load the model via spacy.load('xx_ent_wiki_sm')\n",
            "Requirement already satisfied: en_core_web_lg==2.2.5 from https://github.com/explosion/spacy-models/releases/download/en_core_web_lg-2.2.5/en_core_web_lg-2.2.5.tar.gz#egg=en_core_web_lg==2.2.5 in /usr/local/lib/python3.6/dist-packages (2.2.5)\n",
            "Requirement already satisfied: spacy>=2.2.2 in /usr/local/lib/python3.6/dist-packages (from en_core_web_lg==2.2.5) (2.2.4)\n",
            "Requirement already satisfied: blis<0.5.0,>=0.4.0 in /usr/local/lib/python3.6/dist-packages (from spacy>=2.2.2->en_core_web_lg==2.2.5) (0.4.1)\n",
            "Requirement already satisfied: numpy>=1.15.0 in /usr/local/lib/python3.6/dist-packages (from spacy>=2.2.2->en_core_web_lg==2.2.5) (1.18.2)\n",
            "Requirement already satisfied: catalogue<1.1.0,>=0.0.7 in /usr/local/lib/python3.6/dist-packages (from spacy>=2.2.2->en_core_web_lg==2.2.5) (1.0.0)\n",
            "Requirement already satisfied: murmurhash<1.1.0,>=0.28.0 in /usr/local/lib/python3.6/dist-packages (from spacy>=2.2.2->en_core_web_lg==2.2.5) (1.0.2)\n",
            "Requirement already satisfied: thinc==7.4.0 in /usr/local/lib/python3.6/dist-packages (from spacy>=2.2.2->en_core_web_lg==2.2.5) (7.4.0)\n",
            "Requirement already satisfied: wasabi<1.1.0,>=0.4.0 in /usr/local/lib/python3.6/dist-packages (from spacy>=2.2.2->en_core_web_lg==2.2.5) (0.6.0)\n",
            "Requirement already satisfied: srsly<1.1.0,>=1.0.2 in /usr/local/lib/python3.6/dist-packages (from spacy>=2.2.2->en_core_web_lg==2.2.5) (1.0.2)\n",
            "Requirement already satisfied: preshed<3.1.0,>=3.0.2 in /usr/local/lib/python3.6/dist-packages (from spacy>=2.2.2->en_core_web_lg==2.2.5) (3.0.2)\n",
            "Requirement already satisfied: setuptools in /usr/local/lib/python3.6/dist-packages (from spacy>=2.2.2->en_core_web_lg==2.2.5) (46.1.3)\n",
            "Requirement already satisfied: plac<1.2.0,>=0.9.6 in /usr/local/lib/python3.6/dist-packages (from spacy>=2.2.2->en_core_web_lg==2.2.5) (1.1.3)\n",
            "Requirement already satisfied: tqdm<5.0.0,>=4.38.0 in /usr/local/lib/python3.6/dist-packages (from spacy>=2.2.2->en_core_web_lg==2.2.5) (4.38.0)\n",
            "Requirement already satisfied: cymem<2.1.0,>=2.0.2 in /usr/local/lib/python3.6/dist-packages (from spacy>=2.2.2->en_core_web_lg==2.2.5) (2.0.3)\n",
            "Requirement already satisfied: requests<3.0.0,>=2.13.0 in /usr/local/lib/python3.6/dist-packages (from spacy>=2.2.2->en_core_web_lg==2.2.5) (2.21.0)\n",
            "Requirement already satisfied: importlib-metadata>=0.20; python_version < \"3.8\" in /usr/local/lib/python3.6/dist-packages (from catalogue<1.1.0,>=0.0.7->spacy>=2.2.2->en_core_web_lg==2.2.5) (1.6.0)\n",
            "Requirement already satisfied: idna<2.9,>=2.5 in /usr/local/lib/python3.6/dist-packages (from requests<3.0.0,>=2.13.0->spacy>=2.2.2->en_core_web_lg==2.2.5) (2.8)\n",
            "Requirement already satisfied: certifi>=2017.4.17 in /usr/local/lib/python3.6/dist-packages (from requests<3.0.0,>=2.13.0->spacy>=2.2.2->en_core_web_lg==2.2.5) (2020.4.5.1)\n",
            "Requirement already satisfied: chardet<3.1.0,>=3.0.2 in /usr/local/lib/python3.6/dist-packages (from requests<3.0.0,>=2.13.0->spacy>=2.2.2->en_core_web_lg==2.2.5) (3.0.4)\n",
            "Requirement already satisfied: urllib3<1.25,>=1.21.1 in /usr/local/lib/python3.6/dist-packages (from requests<3.0.0,>=2.13.0->spacy>=2.2.2->en_core_web_lg==2.2.5) (1.24.3)\n",
            "Requirement already satisfied: zipp>=0.5 in /usr/local/lib/python3.6/dist-packages (from importlib-metadata>=0.20; python_version < \"3.8\"->catalogue<1.1.0,>=0.0.7->spacy>=2.2.2->en_core_web_lg==2.2.5) (3.1.0)\n",
            "\u001b[38;5;2m✔ Download and installation successful\u001b[0m\n",
            "You can now load the model via spacy.load('en_core_web_lg')\n",
            "\u001b[2K\u001b[38;5;2m✔ Loaded compatibility table\u001b[0m\n",
            "\u001b[1m\n",
            "====================== Installed models (spaCy v2.2.4) ======================\u001b[0m\n",
            "\u001b[38;5;4mℹ spaCy installation: /usr/local/lib/python3.6/dist-packages/spacy\u001b[0m\n",
            "\n",
            "TYPE      NAME              MODEL             VERSION                            \n",
            "package   xx-ent-wiki-sm    xx_ent_wiki_sm    \u001b[38;5;2m2.2.0\u001b[0m   \u001b[38;5;2m✔\u001b[0m\n",
            "package   en-core-web-sm    en_core_web_sm    \u001b[38;5;2m2.2.5\u001b[0m   \u001b[38;5;2m✔\u001b[0m\n",
            "package   en-core-web-lg    en_core_web_lg    \u001b[38;5;2m2.2.5\u001b[0m   \u001b[38;5;2m✔\u001b[0m\n",
            "package   de-core-news-sm   de_core_news_sm   \u001b[38;5;2m2.2.5\u001b[0m   \u001b[38;5;2m✔\u001b[0m\n",
            "package   de-core-news-md   de_core_news_md   \u001b[38;5;2m2.2.5\u001b[0m   \u001b[38;5;2m✔\u001b[0m\n",
            "link      en                en_core_web_sm    \u001b[38;5;2m2.2.5\u001b[0m   \u001b[38;5;2m✔\u001b[0m\n",
            "\n"
          ],
          "name": "stdout"
        }
      ]
    },
    {
      "cell_type": "code",
      "metadata": {
        "id": "ZVEmTwQo-NST",
        "colab_type": "code",
        "colab": {}
      },
      "source": [
        "!wget http://pcai056.informatik.uni-leipzig.de/downloads/etc/SentiWS/SentiWS_v2.0.zip\n",
        "!unzip SentiWS_v2.0.zip"
      ],
      "execution_count": 0,
      "outputs": []
    },
    {
      "cell_type": "code",
      "metadata": {
        "id": "XhA6VxDPidoa",
        "colab_type": "code",
        "colab": {}
      },
      "source": [
        ""
      ],
      "execution_count": 0,
      "outputs": []
    },
    {
      "cell_type": "code",
      "metadata": {
        "id": "GBSIwnwdW-DK",
        "colab_type": "code",
        "colab": {}
      },
      "source": [
        "spacy.prefer_gpu()\n",
        "import de_core_news_md\n",
        "import en_core_web_lg\n",
        "import xx_ent_wiki_sm\n",
        "nlp_de = de_core_news_md.load()\n",
        "nlp_en = en_core_web_lg.load()\n",
        "nlp_xx = xx_ent_wiki_sm.load()\n",
        "sentiws = spaCySentiWS(sentiws_path='/content')\n",
        "nlp_de.add_pipe(sentiws)"
      ],
      "execution_count": 0,
      "outputs": []
    },
    {
      "cell_type": "code",
      "metadata": {
        "id": "QvtLhZS6ZgGV",
        "colab_type": "code",
        "colab": {}
      },
      "source": [
        "def top_sentence(text, limit, lang):\n",
        "    keyword = []\n",
        "    pos_tag = ['PROPN', 'ADJ', 'NOUN', 'VERB']\n",
        "    if lang == 'de':   \n",
        "      doc = nlp_de(text)\n",
        "    elif lang == 'en':\n",
        "      doc = nlp_en(text)\n",
        "    else:\n",
        "      doc = nlp_xx(text)\n",
        "    for token in doc:\n",
        "        if(token.text in nlp.Defaults.stop_words or token.text in punctuation):\n",
        "            continue\n",
        "        if(token.pos_ in pos_tag):\n",
        "            keyword.append(token.text)\n",
        "    \n",
        "    freq_word = Counter(keyword)\n",
        "    max_freq = Counter(keyword).most_common(1)[0][1]\n",
        "    for w in freq_word:\n",
        "        freq_word[w] = (freq_word[w]/max_freq)\n",
        "        \n",
        "    sent_strength={}\n",
        "    for sent in doc.sents:\n",
        "        for word in sent:\n",
        "            if word.text in freq_word.keys():\n",
        "                if sent in sent_strength.keys():\n",
        "                    sent_strength[sent]+=freq_word[word.text]\n",
        "                else:\n",
        "                    sent_strength[sent]=freq_word[word.text]\n",
        "    \n",
        "    summary = []\n",
        "    \n",
        "    sorted_x = sorted(sent_strength.items(), key=lambda kv: kv[1], reverse=True)\n",
        "    \n",
        "    counter = 0\n",
        "    for i in range(len(sorted_x)):\n",
        "        summary.append(str(sorted_x[i][0]))\n",
        "\n",
        "        counter += 1\n",
        "        if(counter >= limit):\n",
        "            break\n",
        "            \n",
        "    return ' '.join(summary)"
      ],
      "execution_count": 0,
      "outputs": []
    },
    {
      "cell_type": "code",
      "metadata": {
        "id": "nSvCpRlfZh2W",
        "colab_type": "code",
        "colab": {}
      },
      "source": [
        "example_text = '''Yamaha is reminding people that musical equipment cases are for musical equipment — not people — two weeks after fugitive auto titan Carlos Ghosn reportedly was smuggled out of Japan in one. In a tweet over the weekend, the Japanese musical equipment company said it was not naming any names, but noted there had been many recent stories about people getting into musical equipment cases. Yamaha (YAMCY) warned people not to get into, or let others get into, its cases to avoid \"unfortunate accidents.\" Multiple media outlets have reported that Ghosn managed to sneak through a Japanese airport to a private jet that whisked him out of the country by hiding in a large, black music equipment case with breathing holes drilled in the bottom. CNN Business has not independently confirmed those details of his escape. The former Nissan (NSANF) CEO had been out on bail awaiting trial in Japan on charges of financial wrongdoing before making his stunning escape to Lebanon at the end of December. Ghosn has referred to his departure as an effort to \"escape injustice.\" In an interview with CNN\\'s Richard Quest last week, Ghosn did not comment on the nature of his escape, saying he didn\\'t want to endanger any of the people who aided in the operation. Ghosn did, however, respond to a question about what it felt like to ride through the airport in a packing case by first declining to comment but then adding: \"Freedom, no matter the way it happens, is always sweet.\" In a press conference in Lebanon ahead of the CNN interview last Wednesday, Ghosn\\'s first public appearance since fleeing Japan, Ghosn said he decided to leave the country because he believed he would not receive a fair trial, a claim Japanese authorities have disputed. Brands sometimes capitalize on their tangential relationship to big news in order to attract attention on social media. Yamaha is one of Japan\\'s best known brands and Ghosn was one of Japan\\'s top executives before being ousted from Nissan — a match made in social media heaven. Not surprisingly, Yamaha\\'s post went viral on Twitter over the weekend.'''"
      ],
      "execution_count": 0,
      "outputs": []
    },
    {
      "cell_type": "code",
      "metadata": {
        "id": "JR0aGhm5BQM-",
        "colab_type": "code",
        "colab": {}
      },
      "source": [
        "example_text =article[\"text\"]"
      ],
      "execution_count": 0,
      "outputs": []
    },
    {
      "cell_type": "code",
      "metadata": {
        "id": "bclLZSr2FmJ-",
        "colab_type": "code",
        "outputId": "68b8829c-4369-48c0-d4c0-770d94a9d616",
        "colab": {
          "base_uri": "https://localhost:8080/",
          "height": 33
        }
      },
      "source": [
        "doc = nlp(example_text)\n",
        "sentiment=[]\n",
        "for token in doc:\n",
        "  #print('{}, {}, {}'.format(token.text, token._.sentiws, token.pos_))\n",
        "  if token._.sentiws != None:\n",
        "    sentiment.append(token._.sentiws)\n",
        "np.mean(sentiment)\n",
        "np.median(sentiment)\n",
        "#pyplot.boxplot(sentiment)"
      ],
      "execution_count": 168,
      "outputs": [
        {
          "output_type": "execute_result",
          "data": {
            "text/plain": [
              "0.004"
            ]
          },
          "metadata": {
            "tags": []
          },
          "execution_count": 168
        }
      ]
    },
    {
      "cell_type": "code",
      "metadata": {
        "id": "mKB1r_JV2pUR",
        "colab_type": "code",
        "colab": {
          "base_uri": "https://localhost:8080/",
          "height": 53
        },
        "outputId": "25232433-0209-4fec-be80-2c2bce7e0473"
      },
      "source": [
        "keyword = []\n",
        "pos_tag = ['PROPN', 'ADJ', 'NOUN', 'VERB']\n",
        "doc = nlp(example_text)\n",
        "for token in doc:\n",
        "    if(token.text in nlp.Defaults.stop_words or token.text in punctuation):\n",
        "        continue\n",
        "    if(token.pos_ in pos_tag):\n",
        "        keyword.append(token.text)\n",
        "\n",
        "freq_word = Counter(keyword)\n",
        "max_freq = Counter(keyword).most_common(1)[0][1]\n",
        "for w in freq_word:\n",
        "    freq_word[w] = (freq_word[w]/max_freq)\n",
        "    \n",
        "sent_strength={}\n",
        "for sent in doc.sents:\n",
        "    for word in sent:\n",
        "        if word.text in freq_word.keys():\n",
        "            if sent in sent_strength.keys():\n",
        "                sent_strength[sent]+=freq_word[word.text]\n",
        "            else:\n",
        "                sent_strength[sent]=freq_word[word.text]\n",
        "summary = []\n",
        "limit =2\n",
        "sorted_x = sorted(sent_strength.items(), key=lambda kv: kv[1], reverse=True)\n",
        "\n",
        "counter = 0\n",
        "for i in range(len(sorted_x)):\n",
        "    summary.append(str(sorted_x[i][0]))\n",
        "\n",
        "    counter += 1\n",
        "    if(counter >= limit):\n",
        "        break\n",
        "        \n",
        "' '.join(summary)"
      ],
      "execution_count": 210,
      "outputs": [
        {
          "output_type": "execute_result",
          "data": {
            "text/plain": [
              "'„In den USA gibt es ein gewaltiges Potenzial für Batteriespeicher, und der Markt steht erst am Anfang“, sagt Philipp Schröder, Geschäftsführer Vertrieb und Marketing bei sonnen. Die Serienproduktion der sonnenBatterie für den US-Markt befindet sich in San José (Kalifornien) und sei aufgrund der hohen Nachfrage bereits ausgelastet, berichtet der Hersteller.'"
            ]
          },
          "metadata": {
            "tags": []
          },
          "execution_count": 210
        }
      ]
    },
    {
      "cell_type": "code",
      "metadata": {
        "id": "cofXaOldcHrN",
        "colab_type": "code",
        "colab": {
          "base_uri": "https://localhost:8080/",
          "height": 283
        },
        "outputId": "2d061e60-1486-4cb6-de87-5448024ae660"
      },
      "source": [
        "a=[]\n",
        "for token in doc:\n",
        "  a.append(token.pos_)\n",
        "Counter(a)"
      ],
      "execution_count": 208,
      "outputs": [
        {
          "output_type": "execute_result",
          "data": {
            "text/plain": [
              "Counter({'ADJ': 19,\n",
              "         'ADP': 29,\n",
              "         'ADV': 17,\n",
              "         'AUX': 7,\n",
              "         'CCONJ': 13,\n",
              "         'DET': 36,\n",
              "         'NOUN': 58,\n",
              "         'NUM': 3,\n",
              "         'PART': 1,\n",
              "         'PRON': 9,\n",
              "         'PROPN': 13,\n",
              "         'PUNCT': 32,\n",
              "         'SCONJ': 1,\n",
              "         'SPACE': 4,\n",
              "         'VERB': 23,\n",
              "         'X': 1})"
            ]
          },
          "metadata": {
            "tags": []
          },
          "execution_count": 208
        }
      ]
    },
    {
      "cell_type": "code",
      "metadata": {
        "id": "wCzMjYzidwMl",
        "colab_type": "code",
        "colab": {}
      },
      "source": [
        "Counter(doc.ents)"
      ],
      "execution_count": 0,
      "outputs": []
    },
    {
      "cell_type": "code",
      "metadata": {
        "id": "yrUcOpihZpvK",
        "colab_type": "code",
        "outputId": "15a5e4ea-27f8-4d0e-d3dc-48e76e133925",
        "colab": {
          "base_uri": "https://localhost:8080/",
          "height": 53
        }
      },
      "source": [
        "print(top_sentence(example_text, 5))"
      ],
      "execution_count": 205,
      "outputs": [
        {
          "output_type": "stream",
          "text": [
            "„In den USA gibt es ein gewaltiges Potenzial für Batteriespeicher, und der Markt steht erst am Anfang“, sagt Philipp Schröder, Geschäftsführer Vertrieb und Marketing bei sonnen. Die Serienproduktion der sonnenBatterie für den US-Markt befindet sich in San José (Kalifornien) und sei aufgrund der hohen Nachfrage bereits ausgelastet, berichtet der Hersteller.  sonnen GmbH (Wildpoldsried) ist ab sofort für Haushalte in den USA verfügbar. Aufgrund ihrer langen Lebensdauer von 10.000 Ladezyklen eignet sich die sonnenBatterie besonders für das tägliche Be- und Entladen, wie das beim Eigenverbrauch von Solarstrom typisch ist. Neben den Batteriemodulen sind auch der Wechselrichter, die Steuerung und die Messtechnik in einem Gehäuse enthalten und aufeinander abgestimmt.\n"
          ],
          "name": "stdout"
        }
      ]
    },
    {
      "cell_type": "code",
      "metadata": {
        "id": "sqPwlCFoboxG",
        "colab_type": "code",
        "outputId": "4452827a-36d5-43dd-986c-da334d279733",
        "colab": {
          "base_uri": "https://localhost:8080/",
          "height": 54
        }
      },
      "source": [
        "url=\"https://www.derstandard.at/story/2000054503281/apple-arbeitet-an-eigenem-google-glass-konkurrenten\"\n",
        "headers = {'User-Agent': 'Mozilla/5.0 (Linux; Android 5.1.1; SM-G928X Build/LMY47X) AppleWebKit/537.36 (KHTML, like Gecko) Chrome/47.0.2526.83 Mobile Safari/537.36'}\n",
        "res=requests.get(url, headers=headers)\n",
        "soup = BeautifulSoup(res.content, \"html.parser\")\n",
        "article = soup.find(\"article\", attrs={\"class\": \"story-article\"}).get_text()\n",
        "#article = sent_tokenize(article)\n",
        "article"
      ],
      "execution_count": 0,
      "outputs": [
        {
          "output_type": "execute_result",
          "data": {
            "text/plain": [
              "'\\n\\n\\n\\nAugmented Reality\\nApple arbeitet an eigenem Google-Glass-Konkurrenten\\nMehrere hundert Entwickler arbeiten aktuell an AR-Lösungen – Neue iPhone-Features als erster Schritt\\n\\n\\n\\n\\nGleich mehrfach hat Apple im vergangenen Jahr durchblicken lassen, dass man am Thema Augmented Reality interessiert ist, also der Anreicherung der Realität mit Computergrafiken. In einem aktuellen Artikel gibt Bloomberg nun erstmals Einblick in die konkreten Planungen, und dabei zeigt sich: Apple hat offenbar eine ganze Menge vor.\\n\\n\\n\\n'"
            ]
          },
          "metadata": {
            "tags": []
          },
          "execution_count": 57
        }
      ]
    },
    {
      "cell_type": "code",
      "metadata": {
        "id": "xLhXdRm-wH0H",
        "colab_type": "code",
        "outputId": "05c8d9ef-b1c8-4775-df85-09aa6726c1df",
        "colab": {
          "base_uri": "https://localhost:8080/",
          "height": 35
        }
      },
      "source": [
        "url=\"https://www.pv-magazine.de/2019/08/22/der-solarboom-kommt-aktuelle-trends-sorgen-fuer-revolution-des-energiemarkts\"\n",
        "res=requests.get(url)\n",
        "if res.status_code == 200:\n",
        "  soup = BeautifulSoup(res.content, \"html.parser\")\n",
        "  article = soup.find(\"div\", attrs={\"class\": \"content\"})#.get_text()\n",
        "  #article = sent_tokenize(article.replace(\"\\n\",\"\"))\n",
        "  soup.get_text()\n",
        "else:\n",
        "  print(\"Fehler: {}\".format(res.status_code))"
      ],
      "execution_count": 0,
      "outputs": [
        {
          "output_type": "stream",
          "text": [
            "Fehler: 403\n"
          ],
          "name": "stdout"
        }
      ]
    },
    {
      "cell_type": "code",
      "metadata": {
        "id": "RKLZJ1tGzUCB",
        "colab_type": "code",
        "outputId": "ce6b26a1-9071-463e-d989-13725a3c786e",
        "colab": {
          "base_uri": "https://localhost:8080/",
          "height": 549
        }
      },
      "source": [
        "url=\"https://www.energynewsmagazine.at/de?query=##%C3%96sterreichs%20letztes%20kohlekraftwerk%20stellt%20betrieb%20ein\"\n",
        "res=requests.get(url)\n",
        "if res.status_code == 200:\n",
        "  soup = BeautifulSoup(res.content, \"html.parser\")\n",
        "  article = soup.find(\"div\", attrs={\"class\": \"description\"})#.get_text()\n",
        "  #article = sent_tokenize(article.replace(\"\\n\",\"\"))\n",
        "  soup.get_text()\n",
        "else:\n",
        "  print(\"Fehler: {}\".format(res.status_code))"
      ],
      "execution_count": 0,
      "outputs": [
        {
          "output_type": "error",
          "ename": "SSLError",
          "evalue": "ignored",
          "traceback": [
            "\u001b[0;31m---------------------------------------------------------------------------\u001b[0m",
            "\u001b[0;31mSSLError\u001b[0m                                  Traceback (most recent call last)",
            "\u001b[0;32m/usr/local/lib/python3.6/dist-packages/urllib3/connectionpool.py\u001b[0m in \u001b[0;36murlopen\u001b[0;34m(self, method, url, body, headers, retries, redirect, assert_same_host, timeout, pool_timeout, release_conn, chunked, body_pos, **response_kw)\u001b[0m\n\u001b[1;32m    599\u001b[0m                                                   \u001b[0mbody\u001b[0m\u001b[0;34m=\u001b[0m\u001b[0mbody\u001b[0m\u001b[0;34m,\u001b[0m \u001b[0mheaders\u001b[0m\u001b[0;34m=\u001b[0m\u001b[0mheaders\u001b[0m\u001b[0;34m,\u001b[0m\u001b[0;34m\u001b[0m\u001b[0;34m\u001b[0m\u001b[0m\n\u001b[0;32m--> 600\u001b[0;31m                                                   chunked=chunked)\n\u001b[0m\u001b[1;32m    601\u001b[0m \u001b[0;34m\u001b[0m\u001b[0m\n",
            "\u001b[0;32m/usr/local/lib/python3.6/dist-packages/urllib3/connectionpool.py\u001b[0m in \u001b[0;36m_make_request\u001b[0;34m(self, conn, method, url, timeout, chunked, **httplib_request_kw)\u001b[0m\n\u001b[1;32m    342\u001b[0m         \u001b[0;32mtry\u001b[0m\u001b[0;34m:\u001b[0m\u001b[0;34m\u001b[0m\u001b[0;34m\u001b[0m\u001b[0m\n\u001b[0;32m--> 343\u001b[0;31m             \u001b[0mself\u001b[0m\u001b[0;34m.\u001b[0m\u001b[0m_validate_conn\u001b[0m\u001b[0;34m(\u001b[0m\u001b[0mconn\u001b[0m\u001b[0;34m)\u001b[0m\u001b[0;34m\u001b[0m\u001b[0;34m\u001b[0m\u001b[0m\n\u001b[0m\u001b[1;32m    344\u001b[0m         \u001b[0;32mexcept\u001b[0m \u001b[0;34m(\u001b[0m\u001b[0mSocketTimeout\u001b[0m\u001b[0;34m,\u001b[0m \u001b[0mBaseSSLError\u001b[0m\u001b[0;34m)\u001b[0m \u001b[0;32mas\u001b[0m \u001b[0me\u001b[0m\u001b[0;34m:\u001b[0m\u001b[0;34m\u001b[0m\u001b[0;34m\u001b[0m\u001b[0m\n",
            "\u001b[0;32m/usr/local/lib/python3.6/dist-packages/urllib3/connectionpool.py\u001b[0m in \u001b[0;36m_validate_conn\u001b[0;34m(self, conn)\u001b[0m\n\u001b[1;32m    838\u001b[0m         \u001b[0;32mif\u001b[0m \u001b[0;32mnot\u001b[0m \u001b[0mgetattr\u001b[0m\u001b[0;34m(\u001b[0m\u001b[0mconn\u001b[0m\u001b[0;34m,\u001b[0m \u001b[0;34m'sock'\u001b[0m\u001b[0;34m,\u001b[0m \u001b[0;32mNone\u001b[0m\u001b[0;34m)\u001b[0m\u001b[0;34m:\u001b[0m  \u001b[0;31m# AppEngine might not have  `.sock`\u001b[0m\u001b[0;34m\u001b[0m\u001b[0;34m\u001b[0m\u001b[0m\n\u001b[0;32m--> 839\u001b[0;31m             \u001b[0mconn\u001b[0m\u001b[0;34m.\u001b[0m\u001b[0mconnect\u001b[0m\u001b[0;34m(\u001b[0m\u001b[0;34m)\u001b[0m\u001b[0;34m\u001b[0m\u001b[0;34m\u001b[0m\u001b[0m\n\u001b[0m\u001b[1;32m    840\u001b[0m \u001b[0;34m\u001b[0m\u001b[0m\n",
            "\u001b[0;32m/usr/local/lib/python3.6/dist-packages/urllib3/connection.py\u001b[0m in \u001b[0;36mconnect\u001b[0;34m(self)\u001b[0m\n\u001b[1;32m    343\u001b[0m             \u001b[0mserver_hostname\u001b[0m\u001b[0;34m=\u001b[0m\u001b[0mserver_hostname\u001b[0m\u001b[0;34m,\u001b[0m\u001b[0;34m\u001b[0m\u001b[0;34m\u001b[0m\u001b[0m\n\u001b[0;32m--> 344\u001b[0;31m             ssl_context=context)\n\u001b[0m\u001b[1;32m    345\u001b[0m \u001b[0;34m\u001b[0m\u001b[0m\n",
            "\u001b[0;32m/usr/local/lib/python3.6/dist-packages/urllib3/util/ssl_.py\u001b[0m in \u001b[0;36mssl_wrap_socket\u001b[0;34m(sock, keyfile, certfile, cert_reqs, ca_certs, server_hostname, ssl_version, ciphers, ssl_context, ca_cert_dir)\u001b[0m\n\u001b[1;32m    344\u001b[0m         \u001b[0;32mif\u001b[0m \u001b[0mHAS_SNI\u001b[0m \u001b[0;32mand\u001b[0m \u001b[0mserver_hostname\u001b[0m \u001b[0;32mis\u001b[0m \u001b[0;32mnot\u001b[0m \u001b[0;32mNone\u001b[0m\u001b[0;34m:\u001b[0m\u001b[0;34m\u001b[0m\u001b[0;34m\u001b[0m\u001b[0m\n\u001b[0;32m--> 345\u001b[0;31m             \u001b[0;32mreturn\u001b[0m \u001b[0mcontext\u001b[0m\u001b[0;34m.\u001b[0m\u001b[0mwrap_socket\u001b[0m\u001b[0;34m(\u001b[0m\u001b[0msock\u001b[0m\u001b[0;34m,\u001b[0m \u001b[0mserver_hostname\u001b[0m\u001b[0;34m=\u001b[0m\u001b[0mserver_hostname\u001b[0m\u001b[0;34m)\u001b[0m\u001b[0;34m\u001b[0m\u001b[0;34m\u001b[0m\u001b[0m\n\u001b[0m\u001b[1;32m    346\u001b[0m \u001b[0;34m\u001b[0m\u001b[0m\n",
            "\u001b[0;32m/usr/lib/python3.6/ssl.py\u001b[0m in \u001b[0;36mwrap_socket\u001b[0;34m(self, sock, server_side, do_handshake_on_connect, suppress_ragged_eofs, server_hostname, session)\u001b[0m\n\u001b[1;32m    406\u001b[0m                          \u001b[0mserver_hostname\u001b[0m\u001b[0;34m=\u001b[0m\u001b[0mserver_hostname\u001b[0m\u001b[0;34m,\u001b[0m\u001b[0;34m\u001b[0m\u001b[0;34m\u001b[0m\u001b[0m\n\u001b[0;32m--> 407\u001b[0;31m                          _context=self, _session=session)\n\u001b[0m\u001b[1;32m    408\u001b[0m \u001b[0;34m\u001b[0m\u001b[0m\n",
            "\u001b[0;32m/usr/lib/python3.6/ssl.py\u001b[0m in \u001b[0;36m__init__\u001b[0;34m(self, sock, keyfile, certfile, server_side, cert_reqs, ssl_version, ca_certs, do_handshake_on_connect, family, type, proto, fileno, suppress_ragged_eofs, npn_protocols, ciphers, server_hostname, _context, _session)\u001b[0m\n\u001b[1;32m    816\u001b[0m                         \u001b[0;32mraise\u001b[0m \u001b[0mValueError\u001b[0m\u001b[0;34m(\u001b[0m\u001b[0;34m\"do_handshake_on_connect should not be specified for non-blocking sockets\"\u001b[0m\u001b[0;34m)\u001b[0m\u001b[0;34m\u001b[0m\u001b[0;34m\u001b[0m\u001b[0m\n\u001b[0;32m--> 817\u001b[0;31m                     \u001b[0mself\u001b[0m\u001b[0;34m.\u001b[0m\u001b[0mdo_handshake\u001b[0m\u001b[0;34m(\u001b[0m\u001b[0;34m)\u001b[0m\u001b[0;34m\u001b[0m\u001b[0;34m\u001b[0m\u001b[0m\n\u001b[0m\u001b[1;32m    818\u001b[0m \u001b[0;34m\u001b[0m\u001b[0m\n",
            "\u001b[0;32m/usr/lib/python3.6/ssl.py\u001b[0m in \u001b[0;36mdo_handshake\u001b[0;34m(self, block)\u001b[0m\n\u001b[1;32m   1076\u001b[0m                 \u001b[0mself\u001b[0m\u001b[0;34m.\u001b[0m\u001b[0msettimeout\u001b[0m\u001b[0;34m(\u001b[0m\u001b[0;32mNone\u001b[0m\u001b[0;34m)\u001b[0m\u001b[0;34m\u001b[0m\u001b[0;34m\u001b[0m\u001b[0m\n\u001b[0;32m-> 1077\u001b[0;31m             \u001b[0mself\u001b[0m\u001b[0;34m.\u001b[0m\u001b[0m_sslobj\u001b[0m\u001b[0;34m.\u001b[0m\u001b[0mdo_handshake\u001b[0m\u001b[0;34m(\u001b[0m\u001b[0;34m)\u001b[0m\u001b[0;34m\u001b[0m\u001b[0;34m\u001b[0m\u001b[0m\n\u001b[0m\u001b[1;32m   1078\u001b[0m         \u001b[0;32mfinally\u001b[0m\u001b[0;34m:\u001b[0m\u001b[0;34m\u001b[0m\u001b[0;34m\u001b[0m\u001b[0m\n",
            "\u001b[0;32m/usr/lib/python3.6/ssl.py\u001b[0m in \u001b[0;36mdo_handshake\u001b[0;34m(self)\u001b[0m\n\u001b[1;32m    688\u001b[0m         \u001b[0;34m\"\"\"Start the SSL/TLS handshake.\"\"\"\u001b[0m\u001b[0;34m\u001b[0m\u001b[0;34m\u001b[0m\u001b[0m\n\u001b[0;32m--> 689\u001b[0;31m         \u001b[0mself\u001b[0m\u001b[0;34m.\u001b[0m\u001b[0m_sslobj\u001b[0m\u001b[0;34m.\u001b[0m\u001b[0mdo_handshake\u001b[0m\u001b[0;34m(\u001b[0m\u001b[0;34m)\u001b[0m\u001b[0;34m\u001b[0m\u001b[0;34m\u001b[0m\u001b[0m\n\u001b[0m\u001b[1;32m    690\u001b[0m         \u001b[0;32mif\u001b[0m \u001b[0mself\u001b[0m\u001b[0;34m.\u001b[0m\u001b[0mcontext\u001b[0m\u001b[0;34m.\u001b[0m\u001b[0mcheck_hostname\u001b[0m\u001b[0;34m:\u001b[0m\u001b[0;34m\u001b[0m\u001b[0;34m\u001b[0m\u001b[0m\n",
            "\u001b[0;31mSSLError\u001b[0m: [SSL: CERTIFICATE_VERIFY_FAILED] certificate verify failed (_ssl.c:852)",
            "\nDuring handling of the above exception, another exception occurred:\n",
            "\u001b[0;31mMaxRetryError\u001b[0m                             Traceback (most recent call last)",
            "\u001b[0;32m/usr/local/lib/python3.6/dist-packages/requests/adapters.py\u001b[0m in \u001b[0;36msend\u001b[0;34m(self, request, stream, timeout, verify, cert, proxies)\u001b[0m\n\u001b[1;32m    448\u001b[0m                     \u001b[0mretries\u001b[0m\u001b[0;34m=\u001b[0m\u001b[0mself\u001b[0m\u001b[0;34m.\u001b[0m\u001b[0mmax_retries\u001b[0m\u001b[0;34m,\u001b[0m\u001b[0;34m\u001b[0m\u001b[0;34m\u001b[0m\u001b[0m\n\u001b[0;32m--> 449\u001b[0;31m                     \u001b[0mtimeout\u001b[0m\u001b[0;34m=\u001b[0m\u001b[0mtimeout\u001b[0m\u001b[0;34m\u001b[0m\u001b[0;34m\u001b[0m\u001b[0m\n\u001b[0m\u001b[1;32m    450\u001b[0m                 )\n",
            "\u001b[0;32m/usr/local/lib/python3.6/dist-packages/urllib3/connectionpool.py\u001b[0m in \u001b[0;36murlopen\u001b[0;34m(self, method, url, body, headers, retries, redirect, assert_same_host, timeout, pool_timeout, release_conn, chunked, body_pos, **response_kw)\u001b[0m\n\u001b[1;32m    637\u001b[0m             retries = retries.increment(method, url, error=e, _pool=self,\n\u001b[0;32m--> 638\u001b[0;31m                                         _stacktrace=sys.exc_info()[2])\n\u001b[0m\u001b[1;32m    639\u001b[0m             \u001b[0mretries\u001b[0m\u001b[0;34m.\u001b[0m\u001b[0msleep\u001b[0m\u001b[0;34m(\u001b[0m\u001b[0;34m)\u001b[0m\u001b[0;34m\u001b[0m\u001b[0;34m\u001b[0m\u001b[0m\n",
            "\u001b[0;32m/usr/local/lib/python3.6/dist-packages/urllib3/util/retry.py\u001b[0m in \u001b[0;36mincrement\u001b[0;34m(self, method, url, response, error, _pool, _stacktrace)\u001b[0m\n\u001b[1;32m    398\u001b[0m         \u001b[0;32mif\u001b[0m \u001b[0mnew_retry\u001b[0m\u001b[0;34m.\u001b[0m\u001b[0mis_exhausted\u001b[0m\u001b[0;34m(\u001b[0m\u001b[0;34m)\u001b[0m\u001b[0;34m:\u001b[0m\u001b[0;34m\u001b[0m\u001b[0;34m\u001b[0m\u001b[0m\n\u001b[0;32m--> 399\u001b[0;31m             \u001b[0;32mraise\u001b[0m \u001b[0mMaxRetryError\u001b[0m\u001b[0;34m(\u001b[0m\u001b[0m_pool\u001b[0m\u001b[0;34m,\u001b[0m \u001b[0murl\u001b[0m\u001b[0;34m,\u001b[0m \u001b[0merror\u001b[0m \u001b[0;32mor\u001b[0m \u001b[0mResponseError\u001b[0m\u001b[0;34m(\u001b[0m\u001b[0mcause\u001b[0m\u001b[0;34m)\u001b[0m\u001b[0;34m)\u001b[0m\u001b[0;34m\u001b[0m\u001b[0;34m\u001b[0m\u001b[0m\n\u001b[0m\u001b[1;32m    400\u001b[0m \u001b[0;34m\u001b[0m\u001b[0m\n",
            "\u001b[0;31mMaxRetryError\u001b[0m: HTTPSConnectionPool(host='www.energynewsmagazine.at', port=443): Max retries exceeded with url: /de?query= (Caused by SSLError(SSLError(1, '[SSL: CERTIFICATE_VERIFY_FAILED] certificate verify failed (_ssl.c:852)'),))",
            "\nDuring handling of the above exception, another exception occurred:\n",
            "\u001b[0;31mSSLError\u001b[0m                                  Traceback (most recent call last)",
            "\u001b[0;32m<ipython-input-263-2aa12eb356fe>\u001b[0m in \u001b[0;36m<module>\u001b[0;34m()\u001b[0m\n\u001b[1;32m      1\u001b[0m \u001b[0murl\u001b[0m\u001b[0;34m=\u001b[0m\u001b[0;34m\"https://www.energynewsmagazine.at/de?query=##%C3%96sterreichs%20letztes%20kohlekraftwerk%20stellt%20betrieb%20ein\"\u001b[0m\u001b[0;34m\u001b[0m\u001b[0;34m\u001b[0m\u001b[0m\n\u001b[0;32m----> 2\u001b[0;31m \u001b[0mres\u001b[0m\u001b[0;34m=\u001b[0m\u001b[0mrequests\u001b[0m\u001b[0;34m.\u001b[0m\u001b[0mget\u001b[0m\u001b[0;34m(\u001b[0m\u001b[0murl\u001b[0m\u001b[0;34m)\u001b[0m\u001b[0;34m\u001b[0m\u001b[0;34m\u001b[0m\u001b[0m\n\u001b[0m\u001b[1;32m      3\u001b[0m \u001b[0;32mif\u001b[0m \u001b[0mres\u001b[0m\u001b[0;34m.\u001b[0m\u001b[0mstatus_code\u001b[0m \u001b[0;34m==\u001b[0m \u001b[0;36m200\u001b[0m\u001b[0;34m:\u001b[0m\u001b[0;34m\u001b[0m\u001b[0;34m\u001b[0m\u001b[0m\n\u001b[1;32m      4\u001b[0m   \u001b[0msoup\u001b[0m \u001b[0;34m=\u001b[0m \u001b[0mBeautifulSoup\u001b[0m\u001b[0;34m(\u001b[0m\u001b[0mres\u001b[0m\u001b[0;34m.\u001b[0m\u001b[0mcontent\u001b[0m\u001b[0;34m,\u001b[0m \u001b[0;34m\"html.parser\"\u001b[0m\u001b[0;34m)\u001b[0m\u001b[0;34m\u001b[0m\u001b[0;34m\u001b[0m\u001b[0m\n\u001b[1;32m      5\u001b[0m   \u001b[0marticle\u001b[0m \u001b[0;34m=\u001b[0m \u001b[0msoup\u001b[0m\u001b[0;34m.\u001b[0m\u001b[0mfind\u001b[0m\u001b[0;34m(\u001b[0m\u001b[0;34m\"div\"\u001b[0m\u001b[0;34m,\u001b[0m \u001b[0mattrs\u001b[0m\u001b[0;34m=\u001b[0m\u001b[0;34m{\u001b[0m\u001b[0;34m\"class\"\u001b[0m\u001b[0;34m:\u001b[0m \u001b[0;34m\"description\"\u001b[0m\u001b[0;34m}\u001b[0m\u001b[0;34m)\u001b[0m\u001b[0;31m#.get_text()\u001b[0m\u001b[0;34m\u001b[0m\u001b[0;34m\u001b[0m\u001b[0m\n",
            "\u001b[0;32m/usr/local/lib/python3.6/dist-packages/requests/api.py\u001b[0m in \u001b[0;36mget\u001b[0;34m(url, params, **kwargs)\u001b[0m\n\u001b[1;32m     73\u001b[0m \u001b[0;34m\u001b[0m\u001b[0m\n\u001b[1;32m     74\u001b[0m     \u001b[0mkwargs\u001b[0m\u001b[0;34m.\u001b[0m\u001b[0msetdefault\u001b[0m\u001b[0;34m(\u001b[0m\u001b[0;34m'allow_redirects'\u001b[0m\u001b[0;34m,\u001b[0m \u001b[0;32mTrue\u001b[0m\u001b[0;34m)\u001b[0m\u001b[0;34m\u001b[0m\u001b[0;34m\u001b[0m\u001b[0m\n\u001b[0;32m---> 75\u001b[0;31m     \u001b[0;32mreturn\u001b[0m \u001b[0mrequest\u001b[0m\u001b[0;34m(\u001b[0m\u001b[0;34m'get'\u001b[0m\u001b[0;34m,\u001b[0m \u001b[0murl\u001b[0m\u001b[0;34m,\u001b[0m \u001b[0mparams\u001b[0m\u001b[0;34m=\u001b[0m\u001b[0mparams\u001b[0m\u001b[0;34m,\u001b[0m \u001b[0;34m**\u001b[0m\u001b[0mkwargs\u001b[0m\u001b[0;34m)\u001b[0m\u001b[0;34m\u001b[0m\u001b[0;34m\u001b[0m\u001b[0m\n\u001b[0m\u001b[1;32m     76\u001b[0m \u001b[0;34m\u001b[0m\u001b[0m\n\u001b[1;32m     77\u001b[0m \u001b[0;34m\u001b[0m\u001b[0m\n",
            "\u001b[0;32m/usr/local/lib/python3.6/dist-packages/requests/api.py\u001b[0m in \u001b[0;36mrequest\u001b[0;34m(method, url, **kwargs)\u001b[0m\n\u001b[1;32m     58\u001b[0m     \u001b[0;31m# cases, and look like a memory leak in others.\u001b[0m\u001b[0;34m\u001b[0m\u001b[0;34m\u001b[0m\u001b[0;34m\u001b[0m\u001b[0m\n\u001b[1;32m     59\u001b[0m     \u001b[0;32mwith\u001b[0m \u001b[0msessions\u001b[0m\u001b[0;34m.\u001b[0m\u001b[0mSession\u001b[0m\u001b[0;34m(\u001b[0m\u001b[0;34m)\u001b[0m \u001b[0;32mas\u001b[0m \u001b[0msession\u001b[0m\u001b[0;34m:\u001b[0m\u001b[0;34m\u001b[0m\u001b[0;34m\u001b[0m\u001b[0m\n\u001b[0;32m---> 60\u001b[0;31m         \u001b[0;32mreturn\u001b[0m \u001b[0msession\u001b[0m\u001b[0;34m.\u001b[0m\u001b[0mrequest\u001b[0m\u001b[0;34m(\u001b[0m\u001b[0mmethod\u001b[0m\u001b[0;34m=\u001b[0m\u001b[0mmethod\u001b[0m\u001b[0;34m,\u001b[0m \u001b[0murl\u001b[0m\u001b[0;34m=\u001b[0m\u001b[0murl\u001b[0m\u001b[0;34m,\u001b[0m \u001b[0;34m**\u001b[0m\u001b[0mkwargs\u001b[0m\u001b[0;34m)\u001b[0m\u001b[0;34m\u001b[0m\u001b[0;34m\u001b[0m\u001b[0m\n\u001b[0m\u001b[1;32m     61\u001b[0m \u001b[0;34m\u001b[0m\u001b[0m\n\u001b[1;32m     62\u001b[0m \u001b[0;34m\u001b[0m\u001b[0m\n",
            "\u001b[0;32m/usr/local/lib/python3.6/dist-packages/requests/sessions.py\u001b[0m in \u001b[0;36mrequest\u001b[0;34m(self, method, url, params, data, headers, cookies, files, auth, timeout, allow_redirects, proxies, hooks, stream, verify, cert, json)\u001b[0m\n\u001b[1;32m    531\u001b[0m         }\n\u001b[1;32m    532\u001b[0m         \u001b[0msend_kwargs\u001b[0m\u001b[0;34m.\u001b[0m\u001b[0mupdate\u001b[0m\u001b[0;34m(\u001b[0m\u001b[0msettings\u001b[0m\u001b[0;34m)\u001b[0m\u001b[0;34m\u001b[0m\u001b[0;34m\u001b[0m\u001b[0m\n\u001b[0;32m--> 533\u001b[0;31m         \u001b[0mresp\u001b[0m \u001b[0;34m=\u001b[0m \u001b[0mself\u001b[0m\u001b[0;34m.\u001b[0m\u001b[0msend\u001b[0m\u001b[0;34m(\u001b[0m\u001b[0mprep\u001b[0m\u001b[0;34m,\u001b[0m \u001b[0;34m**\u001b[0m\u001b[0msend_kwargs\u001b[0m\u001b[0;34m)\u001b[0m\u001b[0;34m\u001b[0m\u001b[0;34m\u001b[0m\u001b[0m\n\u001b[0m\u001b[1;32m    534\u001b[0m \u001b[0;34m\u001b[0m\u001b[0m\n\u001b[1;32m    535\u001b[0m         \u001b[0;32mreturn\u001b[0m \u001b[0mresp\u001b[0m\u001b[0;34m\u001b[0m\u001b[0;34m\u001b[0m\u001b[0m\n",
            "\u001b[0;32m/usr/local/lib/python3.6/dist-packages/requests/sessions.py\u001b[0m in \u001b[0;36msend\u001b[0;34m(self, request, **kwargs)\u001b[0m\n\u001b[1;32m    644\u001b[0m \u001b[0;34m\u001b[0m\u001b[0m\n\u001b[1;32m    645\u001b[0m         \u001b[0;31m# Send the request\u001b[0m\u001b[0;34m\u001b[0m\u001b[0;34m\u001b[0m\u001b[0;34m\u001b[0m\u001b[0m\n\u001b[0;32m--> 646\u001b[0;31m         \u001b[0mr\u001b[0m \u001b[0;34m=\u001b[0m \u001b[0madapter\u001b[0m\u001b[0;34m.\u001b[0m\u001b[0msend\u001b[0m\u001b[0;34m(\u001b[0m\u001b[0mrequest\u001b[0m\u001b[0;34m,\u001b[0m \u001b[0;34m**\u001b[0m\u001b[0mkwargs\u001b[0m\u001b[0;34m)\u001b[0m\u001b[0;34m\u001b[0m\u001b[0;34m\u001b[0m\u001b[0m\n\u001b[0m\u001b[1;32m    647\u001b[0m \u001b[0;34m\u001b[0m\u001b[0m\n\u001b[1;32m    648\u001b[0m         \u001b[0;31m# Total elapsed time of the request (approximately)\u001b[0m\u001b[0;34m\u001b[0m\u001b[0;34m\u001b[0m\u001b[0;34m\u001b[0m\u001b[0m\n",
            "\u001b[0;32m/usr/local/lib/python3.6/dist-packages/requests/adapters.py\u001b[0m in \u001b[0;36msend\u001b[0;34m(self, request, stream, timeout, verify, cert, proxies)\u001b[0m\n\u001b[1;32m    512\u001b[0m             \u001b[0;32mif\u001b[0m \u001b[0misinstance\u001b[0m\u001b[0;34m(\u001b[0m\u001b[0me\u001b[0m\u001b[0;34m.\u001b[0m\u001b[0mreason\u001b[0m\u001b[0;34m,\u001b[0m \u001b[0m_SSLError\u001b[0m\u001b[0;34m)\u001b[0m\u001b[0;34m:\u001b[0m\u001b[0;34m\u001b[0m\u001b[0;34m\u001b[0m\u001b[0m\n\u001b[1;32m    513\u001b[0m                 \u001b[0;31m# This branch is for urllib3 v1.22 and later.\u001b[0m\u001b[0;34m\u001b[0m\u001b[0;34m\u001b[0m\u001b[0;34m\u001b[0m\u001b[0m\n\u001b[0;32m--> 514\u001b[0;31m                 \u001b[0;32mraise\u001b[0m \u001b[0mSSLError\u001b[0m\u001b[0;34m(\u001b[0m\u001b[0me\u001b[0m\u001b[0;34m,\u001b[0m \u001b[0mrequest\u001b[0m\u001b[0;34m=\u001b[0m\u001b[0mrequest\u001b[0m\u001b[0;34m)\u001b[0m\u001b[0;34m\u001b[0m\u001b[0;34m\u001b[0m\u001b[0m\n\u001b[0m\u001b[1;32m    515\u001b[0m \u001b[0;34m\u001b[0m\u001b[0m\n\u001b[1;32m    516\u001b[0m             \u001b[0;32mraise\u001b[0m \u001b[0mConnectionError\u001b[0m\u001b[0;34m(\u001b[0m\u001b[0me\u001b[0m\u001b[0;34m,\u001b[0m \u001b[0mrequest\u001b[0m\u001b[0;34m=\u001b[0m\u001b[0mrequest\u001b[0m\u001b[0;34m)\u001b[0m\u001b[0;34m\u001b[0m\u001b[0;34m\u001b[0m\u001b[0m\n",
            "\u001b[0;31mSSLError\u001b[0m: HTTPSConnectionPool(host='www.energynewsmagazine.at', port=443): Max retries exceeded with url: /de?query= (Caused by SSLError(SSLError(1, '[SSL: CERTIFICATE_VERIFY_FAILED] certificate verify failed (_ssl.c:852)'),))"
          ]
        }
      ]
    }
  ]
}